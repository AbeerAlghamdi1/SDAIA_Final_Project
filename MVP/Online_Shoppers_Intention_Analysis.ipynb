{
  "nbformat": 4,
  "nbformat_minor": 0,
  "metadata": {
    "colab": {
      "name": "Online_Shoppers_Intention_Analysis.ipynb",
      "provenance": [],
      "collapsed_sections": []
    },
    "kernelspec": {
      "display_name": "Python 3",
      "name": "python3"
    },
    "language_info": {
      "name": "python"
    }
  },
  "cells": [
    {
      "cell_type": "code",
      "metadata": {
        "id": "t5jpHhsroWkb"
      },
      "source": [
        "# Import libraries:\n",
        "import pandas as pd\n",
        "import numpy as np\n",
        "import seaborn as sns\n",
        "import matplotlib.pyplot as plt\n",
        "from sklearn.model_selection import train_test_split\n",
        "from sklearn.linear_model import LogisticRegression\n",
        "from sklearn.neighbors import KNeighborsClassifier\n",
        "from sklearn.ensemble import RandomForestClassifier\n",
        "from sklearn.metrics import accuracy_score\n",
        "\n",
        "# Ignore warning messages:\n",
        "import warnings\n",
        "warnings.filterwarnings('ignore')"
      ],
      "execution_count": 165,
      "outputs": []
    },
    {
      "cell_type": "code",
      "metadata": {
        "colab": {
          "base_uri": "https://localhost:8080/",
          "height": 223
        },
        "id": "lOxWHMYnodMc",
        "outputId": "9990efe1-408e-4e6c-a4dd-35e6efb0a883"
      },
      "source": [
        "# Reading Data\n",
        "df = pd.read_csv(\"https://raw.githubusercontent.com/AbeerAlghamdi1/SDAIA_Final_Project/main/Dataset/online_shoppers_intention.csv\")\n",
        "\n",
        "# Showing the first 5 rows of data:\n",
        "df.head()"
      ],
      "execution_count": 166,
      "outputs": [
        {
          "output_type": "execute_result",
          "data": {
            "text/html": [
              "<div>\n",
              "<style scoped>\n",
              "    .dataframe tbody tr th:only-of-type {\n",
              "        vertical-align: middle;\n",
              "    }\n",
              "\n",
              "    .dataframe tbody tr th {\n",
              "        vertical-align: top;\n",
              "    }\n",
              "\n",
              "    .dataframe thead th {\n",
              "        text-align: right;\n",
              "    }\n",
              "</style>\n",
              "<table border=\"1\" class=\"dataframe\">\n",
              "  <thead>\n",
              "    <tr style=\"text-align: right;\">\n",
              "      <th></th>\n",
              "      <th>Administrative</th>\n",
              "      <th>Administrative_Duration</th>\n",
              "      <th>Informational</th>\n",
              "      <th>Informational_Duration</th>\n",
              "      <th>ProductRelated</th>\n",
              "      <th>ProductRelated_Duration</th>\n",
              "      <th>BounceRates</th>\n",
              "      <th>ExitRates</th>\n",
              "      <th>PageValues</th>\n",
              "      <th>SpecialDay</th>\n",
              "      <th>Month</th>\n",
              "      <th>OperatingSystems</th>\n",
              "      <th>Browser</th>\n",
              "      <th>Region</th>\n",
              "      <th>TrafficType</th>\n",
              "      <th>VisitorType</th>\n",
              "      <th>Weekend</th>\n",
              "      <th>Revenue</th>\n",
              "    </tr>\n",
              "  </thead>\n",
              "  <tbody>\n",
              "    <tr>\n",
              "      <th>0</th>\n",
              "      <td>0</td>\n",
              "      <td>0.0</td>\n",
              "      <td>0</td>\n",
              "      <td>0.0</td>\n",
              "      <td>1</td>\n",
              "      <td>0.000000</td>\n",
              "      <td>0.20</td>\n",
              "      <td>0.20</td>\n",
              "      <td>0.0</td>\n",
              "      <td>0.0</td>\n",
              "      <td>Feb</td>\n",
              "      <td>1</td>\n",
              "      <td>1</td>\n",
              "      <td>1</td>\n",
              "      <td>1</td>\n",
              "      <td>Returning_Visitor</td>\n",
              "      <td>False</td>\n",
              "      <td>False</td>\n",
              "    </tr>\n",
              "    <tr>\n",
              "      <th>1</th>\n",
              "      <td>0</td>\n",
              "      <td>0.0</td>\n",
              "      <td>0</td>\n",
              "      <td>0.0</td>\n",
              "      <td>2</td>\n",
              "      <td>64.000000</td>\n",
              "      <td>0.00</td>\n",
              "      <td>0.10</td>\n",
              "      <td>0.0</td>\n",
              "      <td>0.0</td>\n",
              "      <td>Feb</td>\n",
              "      <td>2</td>\n",
              "      <td>2</td>\n",
              "      <td>1</td>\n",
              "      <td>2</td>\n",
              "      <td>Returning_Visitor</td>\n",
              "      <td>False</td>\n",
              "      <td>False</td>\n",
              "    </tr>\n",
              "    <tr>\n",
              "      <th>2</th>\n",
              "      <td>0</td>\n",
              "      <td>0.0</td>\n",
              "      <td>0</td>\n",
              "      <td>0.0</td>\n",
              "      <td>1</td>\n",
              "      <td>0.000000</td>\n",
              "      <td>0.20</td>\n",
              "      <td>0.20</td>\n",
              "      <td>0.0</td>\n",
              "      <td>0.0</td>\n",
              "      <td>Feb</td>\n",
              "      <td>4</td>\n",
              "      <td>1</td>\n",
              "      <td>9</td>\n",
              "      <td>3</td>\n",
              "      <td>Returning_Visitor</td>\n",
              "      <td>False</td>\n",
              "      <td>False</td>\n",
              "    </tr>\n",
              "    <tr>\n",
              "      <th>3</th>\n",
              "      <td>0</td>\n",
              "      <td>0.0</td>\n",
              "      <td>0</td>\n",
              "      <td>0.0</td>\n",
              "      <td>2</td>\n",
              "      <td>2.666667</td>\n",
              "      <td>0.05</td>\n",
              "      <td>0.14</td>\n",
              "      <td>0.0</td>\n",
              "      <td>0.0</td>\n",
              "      <td>Feb</td>\n",
              "      <td>3</td>\n",
              "      <td>2</td>\n",
              "      <td>2</td>\n",
              "      <td>4</td>\n",
              "      <td>Returning_Visitor</td>\n",
              "      <td>False</td>\n",
              "      <td>False</td>\n",
              "    </tr>\n",
              "    <tr>\n",
              "      <th>4</th>\n",
              "      <td>0</td>\n",
              "      <td>0.0</td>\n",
              "      <td>0</td>\n",
              "      <td>0.0</td>\n",
              "      <td>10</td>\n",
              "      <td>627.500000</td>\n",
              "      <td>0.02</td>\n",
              "      <td>0.05</td>\n",
              "      <td>0.0</td>\n",
              "      <td>0.0</td>\n",
              "      <td>Feb</td>\n",
              "      <td>3</td>\n",
              "      <td>3</td>\n",
              "      <td>1</td>\n",
              "      <td>4</td>\n",
              "      <td>Returning_Visitor</td>\n",
              "      <td>True</td>\n",
              "      <td>False</td>\n",
              "    </tr>\n",
              "  </tbody>\n",
              "</table>\n",
              "</div>"
            ],
            "text/plain": [
              "   Administrative  Administrative_Duration  ...  Weekend  Revenue\n",
              "0               0                      0.0  ...    False    False\n",
              "1               0                      0.0  ...    False    False\n",
              "2               0                      0.0  ...    False    False\n",
              "3               0                      0.0  ...    False    False\n",
              "4               0                      0.0  ...     True    False\n",
              "\n",
              "[5 rows x 18 columns]"
            ]
          },
          "metadata": {},
          "execution_count": 166
        }
      ]
    },
    {
      "cell_type": "code",
      "metadata": {
        "colab": {
          "base_uri": "https://localhost:8080/"
        },
        "id": "XslRtmu5zTru",
        "outputId": "b633bdae-2cec-49b8-cf06-15c37090cd74"
      },
      "source": [
        "# Showing the number of rows and columns in data:\n",
        "df.shape"
      ],
      "execution_count": 167,
      "outputs": [
        {
          "output_type": "execute_result",
          "data": {
            "text/plain": [
              "(12330, 18)"
            ]
          },
          "metadata": {},
          "execution_count": 167
        }
      ]
    },
    {
      "cell_type": "code",
      "metadata": {
        "colab": {
          "base_uri": "https://localhost:8080/"
        },
        "id": "v-UjGO4UzEBG",
        "outputId": "24737872-58f6-44c4-8ed2-fcfe40c5688a"
      },
      "source": [
        "# Data information:\n",
        "df.info()"
      ],
      "execution_count": 168,
      "outputs": [
        {
          "output_type": "stream",
          "name": "stdout",
          "text": [
            "<class 'pandas.core.frame.DataFrame'>\n",
            "RangeIndex: 12330 entries, 0 to 12329\n",
            "Data columns (total 18 columns):\n",
            " #   Column                   Non-Null Count  Dtype  \n",
            "---  ------                   --------------  -----  \n",
            " 0   Administrative           12330 non-null  int64  \n",
            " 1   Administrative_Duration  12330 non-null  float64\n",
            " 2   Informational            12330 non-null  int64  \n",
            " 3   Informational_Duration   12330 non-null  float64\n",
            " 4   ProductRelated           12330 non-null  int64  \n",
            " 5   ProductRelated_Duration  12330 non-null  float64\n",
            " 6   BounceRates              12330 non-null  float64\n",
            " 7   ExitRates                12330 non-null  float64\n",
            " 8   PageValues               12330 non-null  float64\n",
            " 9   SpecialDay               12330 non-null  float64\n",
            " 10  Month                    12330 non-null  object \n",
            " 11  OperatingSystems         12330 non-null  int64  \n",
            " 12  Browser                  12330 non-null  int64  \n",
            " 13  Region                   12330 non-null  int64  \n",
            " 14  TrafficType              12330 non-null  int64  \n",
            " 15  VisitorType              12330 non-null  object \n",
            " 16  Weekend                  12330 non-null  bool   \n",
            " 17  Revenue                  12330 non-null  bool   \n",
            "dtypes: bool(2), float64(7), int64(7), object(2)\n",
            "memory usage: 1.5+ MB\n"
          ]
        }
      ]
    },
    {
      "cell_type": "code",
      "metadata": {
        "colab": {
          "base_uri": "https://localhost:8080/",
          "height": 315
        },
        "id": "mKgxQvUSpiDW",
        "outputId": "46caacd2-685c-4060-a5ca-e3cfee8f6bc6"
      },
      "source": [
        "# Description of data:\n",
        "df.describe()"
      ],
      "execution_count": 169,
      "outputs": [
        {
          "output_type": "execute_result",
          "data": {
            "text/html": [
              "<div>\n",
              "<style scoped>\n",
              "    .dataframe tbody tr th:only-of-type {\n",
              "        vertical-align: middle;\n",
              "    }\n",
              "\n",
              "    .dataframe tbody tr th {\n",
              "        vertical-align: top;\n",
              "    }\n",
              "\n",
              "    .dataframe thead th {\n",
              "        text-align: right;\n",
              "    }\n",
              "</style>\n",
              "<table border=\"1\" class=\"dataframe\">\n",
              "  <thead>\n",
              "    <tr style=\"text-align: right;\">\n",
              "      <th></th>\n",
              "      <th>Administrative</th>\n",
              "      <th>Administrative_Duration</th>\n",
              "      <th>Informational</th>\n",
              "      <th>Informational_Duration</th>\n",
              "      <th>ProductRelated</th>\n",
              "      <th>ProductRelated_Duration</th>\n",
              "      <th>BounceRates</th>\n",
              "      <th>ExitRates</th>\n",
              "      <th>PageValues</th>\n",
              "      <th>SpecialDay</th>\n",
              "      <th>OperatingSystems</th>\n",
              "      <th>Browser</th>\n",
              "      <th>Region</th>\n",
              "      <th>TrafficType</th>\n",
              "    </tr>\n",
              "  </thead>\n",
              "  <tbody>\n",
              "    <tr>\n",
              "      <th>count</th>\n",
              "      <td>12330.000000</td>\n",
              "      <td>12330.000000</td>\n",
              "      <td>12330.000000</td>\n",
              "      <td>12330.000000</td>\n",
              "      <td>12330.000000</td>\n",
              "      <td>12330.000000</td>\n",
              "      <td>12330.000000</td>\n",
              "      <td>12330.000000</td>\n",
              "      <td>12330.000000</td>\n",
              "      <td>12330.000000</td>\n",
              "      <td>12330.000000</td>\n",
              "      <td>12330.000000</td>\n",
              "      <td>12330.000000</td>\n",
              "      <td>12330.000000</td>\n",
              "    </tr>\n",
              "    <tr>\n",
              "      <th>mean</th>\n",
              "      <td>2.315166</td>\n",
              "      <td>80.818611</td>\n",
              "      <td>0.503569</td>\n",
              "      <td>34.472398</td>\n",
              "      <td>31.731468</td>\n",
              "      <td>1194.746220</td>\n",
              "      <td>0.022191</td>\n",
              "      <td>0.043073</td>\n",
              "      <td>5.889258</td>\n",
              "      <td>0.061427</td>\n",
              "      <td>2.124006</td>\n",
              "      <td>2.357097</td>\n",
              "      <td>3.147364</td>\n",
              "      <td>4.069586</td>\n",
              "    </tr>\n",
              "    <tr>\n",
              "      <th>std</th>\n",
              "      <td>3.321784</td>\n",
              "      <td>176.779107</td>\n",
              "      <td>1.270156</td>\n",
              "      <td>140.749294</td>\n",
              "      <td>44.475503</td>\n",
              "      <td>1913.669288</td>\n",
              "      <td>0.048488</td>\n",
              "      <td>0.048597</td>\n",
              "      <td>18.568437</td>\n",
              "      <td>0.198917</td>\n",
              "      <td>0.911325</td>\n",
              "      <td>1.717277</td>\n",
              "      <td>2.401591</td>\n",
              "      <td>4.025169</td>\n",
              "    </tr>\n",
              "    <tr>\n",
              "      <th>min</th>\n",
              "      <td>0.000000</td>\n",
              "      <td>0.000000</td>\n",
              "      <td>0.000000</td>\n",
              "      <td>0.000000</td>\n",
              "      <td>0.000000</td>\n",
              "      <td>0.000000</td>\n",
              "      <td>0.000000</td>\n",
              "      <td>0.000000</td>\n",
              "      <td>0.000000</td>\n",
              "      <td>0.000000</td>\n",
              "      <td>1.000000</td>\n",
              "      <td>1.000000</td>\n",
              "      <td>1.000000</td>\n",
              "      <td>1.000000</td>\n",
              "    </tr>\n",
              "    <tr>\n",
              "      <th>25%</th>\n",
              "      <td>0.000000</td>\n",
              "      <td>0.000000</td>\n",
              "      <td>0.000000</td>\n",
              "      <td>0.000000</td>\n",
              "      <td>7.000000</td>\n",
              "      <td>184.137500</td>\n",
              "      <td>0.000000</td>\n",
              "      <td>0.014286</td>\n",
              "      <td>0.000000</td>\n",
              "      <td>0.000000</td>\n",
              "      <td>2.000000</td>\n",
              "      <td>2.000000</td>\n",
              "      <td>1.000000</td>\n",
              "      <td>2.000000</td>\n",
              "    </tr>\n",
              "    <tr>\n",
              "      <th>50%</th>\n",
              "      <td>1.000000</td>\n",
              "      <td>7.500000</td>\n",
              "      <td>0.000000</td>\n",
              "      <td>0.000000</td>\n",
              "      <td>18.000000</td>\n",
              "      <td>598.936905</td>\n",
              "      <td>0.003112</td>\n",
              "      <td>0.025156</td>\n",
              "      <td>0.000000</td>\n",
              "      <td>0.000000</td>\n",
              "      <td>2.000000</td>\n",
              "      <td>2.000000</td>\n",
              "      <td>3.000000</td>\n",
              "      <td>2.000000</td>\n",
              "    </tr>\n",
              "    <tr>\n",
              "      <th>75%</th>\n",
              "      <td>4.000000</td>\n",
              "      <td>93.256250</td>\n",
              "      <td>0.000000</td>\n",
              "      <td>0.000000</td>\n",
              "      <td>38.000000</td>\n",
              "      <td>1464.157213</td>\n",
              "      <td>0.016813</td>\n",
              "      <td>0.050000</td>\n",
              "      <td>0.000000</td>\n",
              "      <td>0.000000</td>\n",
              "      <td>3.000000</td>\n",
              "      <td>2.000000</td>\n",
              "      <td>4.000000</td>\n",
              "      <td>4.000000</td>\n",
              "    </tr>\n",
              "    <tr>\n",
              "      <th>max</th>\n",
              "      <td>27.000000</td>\n",
              "      <td>3398.750000</td>\n",
              "      <td>24.000000</td>\n",
              "      <td>2549.375000</td>\n",
              "      <td>705.000000</td>\n",
              "      <td>63973.522230</td>\n",
              "      <td>0.200000</td>\n",
              "      <td>0.200000</td>\n",
              "      <td>361.763742</td>\n",
              "      <td>1.000000</td>\n",
              "      <td>8.000000</td>\n",
              "      <td>13.000000</td>\n",
              "      <td>9.000000</td>\n",
              "      <td>20.000000</td>\n",
              "    </tr>\n",
              "  </tbody>\n",
              "</table>\n",
              "</div>"
            ],
            "text/plain": [
              "       Administrative  Administrative_Duration  ...        Region   TrafficType\n",
              "count    12330.000000             12330.000000  ...  12330.000000  12330.000000\n",
              "mean         2.315166                80.818611  ...      3.147364      4.069586\n",
              "std          3.321784               176.779107  ...      2.401591      4.025169\n",
              "min          0.000000                 0.000000  ...      1.000000      1.000000\n",
              "25%          0.000000                 0.000000  ...      1.000000      2.000000\n",
              "50%          1.000000                 7.500000  ...      3.000000      2.000000\n",
              "75%          4.000000                93.256250  ...      4.000000      4.000000\n",
              "max         27.000000              3398.750000  ...      9.000000     20.000000\n",
              "\n",
              "[8 rows x 14 columns]"
            ]
          },
          "metadata": {},
          "execution_count": 169
        }
      ]
    },
    {
      "cell_type": "code",
      "metadata": {
        "colab": {
          "base_uri": "https://localhost:8080/"
        },
        "id": "yEI9FGjQponP",
        "outputId": "b29e762c-c229-4f28-e1c4-8231d9a61873"
      },
      "source": [
        "# Showing missing data:\n",
        "df.isnull().sum()"
      ],
      "execution_count": 170,
      "outputs": [
        {
          "output_type": "execute_result",
          "data": {
            "text/plain": [
              "Administrative             0\n",
              "Administrative_Duration    0\n",
              "Informational              0\n",
              "Informational_Duration     0\n",
              "ProductRelated             0\n",
              "ProductRelated_Duration    0\n",
              "BounceRates                0\n",
              "ExitRates                  0\n",
              "PageValues                 0\n",
              "SpecialDay                 0\n",
              "Month                      0\n",
              "OperatingSystems           0\n",
              "Browser                    0\n",
              "Region                     0\n",
              "TrafficType                0\n",
              "VisitorType                0\n",
              "Weekend                    0\n",
              "Revenue                    0\n",
              "dtype: int64"
            ]
          },
          "metadata": {},
          "execution_count": 170
        }
      ]
    },
    {
      "cell_type": "code",
      "metadata": {
        "colab": {
          "base_uri": "https://localhost:8080/"
        },
        "id": "tsKMdZaUp3Sr",
        "outputId": "b4283b2c-930a-4b1d-b10f-bb3edc81cf01"
      },
      "source": [
        "# Calculate duplicate values:\n",
        "df.duplicated().sum()"
      ],
      "execution_count": 171,
      "outputs": [
        {
          "output_type": "execute_result",
          "data": {
            "text/plain": [
              "125"
            ]
          },
          "metadata": {},
          "execution_count": 171
        }
      ]
    },
    {
      "cell_type": "code",
      "metadata": {
        "id": "VPWSxEgZp9xX"
      },
      "source": [
        "# Remove duplicate values:\n",
        "df.drop_duplicates(inplace=True)"
      ],
      "execution_count": 172,
      "outputs": []
    },
    {
      "cell_type": "code",
      "metadata": {
        "colab": {
          "base_uri": "https://localhost:8080/"
        },
        "id": "4n7F6TIfqP1d",
        "outputId": "b0bd40c8-584d-45bb-8566-23e3361d11ea"
      },
      "source": [
        "# Data shape after removing duplicate values:\n",
        "df.shape"
      ],
      "execution_count": 173,
      "outputs": [
        {
          "output_type": "execute_result",
          "data": {
            "text/plain": [
              "(12205, 18)"
            ]
          },
          "metadata": {},
          "execution_count": 173
        }
      ]
    },
    {
      "cell_type": "code",
      "metadata": {
        "colab": {
          "base_uri": "https://localhost:8080/"
        },
        "id": "guvobFKTr5cI",
        "outputId": "e7abde7f-9886-4578-f4e9-6eaeb04abdbc"
      },
      "source": [
        "# Counts the unique values:\n",
        "df['Revenue'].value_counts()"
      ],
      "execution_count": 174,
      "outputs": [
        {
          "output_type": "execute_result",
          "data": {
            "text/plain": [
              "False    10297\n",
              "True      1908\n",
              "Name: Revenue, dtype: int64"
            ]
          },
          "metadata": {},
          "execution_count": 174
        }
      ]
    },
    {
      "cell_type": "markdown",
      "metadata": {
        "id": "s-d1Uo5A4BtC"
      },
      "source": [
        "## Visualization"
      ]
    },
    {
      "cell_type": "code",
      "metadata": {
        "id": "k3hSQBi5qPsL"
      },
      "source": [
        "# Checking the distribution of revenue:\n",
        "\n",
        "def plot_data_count(df, col, return_pct_share=True, hue=None, figsize=(12,6)):\n",
        "    \n",
        "    plt.figure(figsize=figsize)\n",
        "    g = sns.countplot(data=df, x=col, hue=hue)\n",
        "    for rect in g.patches:\n",
        "        h = rect.get_height()\n",
        "        w = rect.get_width()\n",
        "        x = rect.get_x()\n",
        "        y = rect.get_y()\n",
        "        g.annotate(f\"{h}\", (x+w/2, h), ha='center', va='bottom', fontsize=12)\n",
        "    g.spines['top'].set_visible(False)\n",
        "    g.spines['right'].set_visible(False)\n",
        "    g.spines['left'].set_visible(False)\n",
        "    \n",
        "    plt.show()\n",
        "    \n",
        "    if return_pct_share:\n",
        "        print(\"\\n\")\n",
        "        print(\"Percent share for each category:\")\n",
        "        print(df[col].value_counts(normalize=True)*100)"
      ],
      "execution_count": 175,
      "outputs": []
    },
    {
      "cell_type": "code",
      "metadata": {
        "colab": {
          "base_uri": "https://localhost:8080/",
          "height": 489
        },
        "id": "ZEic9XP3qPpc",
        "outputId": "5d32f52b-c99e-4f64-937a-8ce1a35d3152"
      },
      "source": [
        "plot_data_count(df, 'Revenue')"
      ],
      "execution_count": 176,
      "outputs": [
        {
          "output_type": "display_data",
          "data": {
            "image/png": "[encoded data removed]",
            "text/plain": [
              "<Figure size 864x432 with 1 Axes>"
            ]
          },
          "metadata": {
            "needs_background": "light"
          }
        },
        {
          "output_type": "stream",
          "name": "stdout",
          "text": [
            "\n",
            "\n",
            "Percent share for each category:\n",
            "False    84.367063\n",
            "True     15.632937\n",
            "Name: Revenue, dtype: float64\n"
          ]
        }
      ]
    },
    {
      "cell_type": "markdown",
      "metadata": {
        "id": "cl1FhaGY4xke"
      },
      "source": [
        "\n",
        "* **Only 15.63% percent of customers ended up making purchase.**  \n",
        "\n",
        "\n"
      ]
    },
    {
      "cell_type": "code",
      "metadata": {
        "colab": {
          "base_uri": "https://localhost:8080/",
          "height": 562
        },
        "id": "dD9-vfhKqPzQ",
        "outputId": "bbdaaeef-740b-404c-e82c-84464be07943"
      },
      "source": [
        "# Displaying correlation matrix using heatmap:\n",
        "corr = df.corr()\n",
        "corr.style.background_gradient(cmap='Blues')"
      ],
      "execution_count": 177,
      "outputs": [
        {
          "output_type": "execute_result",
          "data": {
            "text/html": [
              "<style  type=\"text/css\" >\n",
              "#T_0e0d12b6_3f3f_11ec_acd1_0242ac1c0002row0_col0,#T_0e0d12b6_3f3f_11ec_acd1_0242ac1c0002row1_col1,#T_0e0d12b6_3f3f_11ec_acd1_0242ac1c0002row2_col2,#T_0e0d12b6_3f3f_11ec_acd1_0242ac1c0002row3_col3,#T_0e0d12b6_3f3f_11ec_acd1_0242ac1c0002row4_col4,#T_0e0d12b6_3f3f_11ec_acd1_0242ac1c0002row5_col5,#T_0e0d12b6_3f3f_11ec_acd1_0242ac1c0002row6_col6,#T_0e0d12b6_3f3f_11ec_acd1_0242ac1c0002row7_col7,#T_0e0d12b6_3f3f_11ec_acd1_0242ac1c0002row8_col8,#T_0e0d12b6_3f3f_11ec_acd1_0242ac1c0002row9_col9,#T_0e0d12b6_3f3f_11ec_acd1_0242ac1c0002row10_col10,#T_0e0d12b6_3f3f_11ec_acd1_0242ac1c0002row11_col11,#T_0e0d12b6_3f3f_11ec_acd1_0242ac1c0002row12_col12,#T_0e0d12b6_3f3f_11ec_acd1_0242ac1c0002row13_col13,#T_0e0d12b6_3f3f_11ec_acd1_0242ac1c0002row14_col14,#T_0e0d12b6_3f3f_11ec_acd1_0242ac1c0002row15_col15{\n",
              "            background-color:  #08306b;\n",
              "            color:  #f1f1f1;\n",
              "        }#T_0e0d12b6_3f3f_11ec_acd1_0242ac1c0002row0_col1{\n",
              "            background-color:  #3787c0;\n",
              "            color:  #000000;\n",
              "        }#T_0e0d12b6_3f3f_11ec_acd1_0242ac1c0002row0_col2,#T_0e0d12b6_3f3f_11ec_acd1_0242ac1c0002row5_col1{\n",
              "            background-color:  #7ab6d9;\n",
              "            color:  #000000;\n",
              "        }#T_0e0d12b6_3f3f_11ec_acd1_0242ac1c0002row0_col3,#T_0e0d12b6_3f3f_11ec_acd1_0242ac1c0002row9_col7{\n",
              "            background-color:  #aed1e7;\n",
              "            color:  #000000;\n",
              "        }#T_0e0d12b6_3f3f_11ec_acd1_0242ac1c0002row0_col4{\n",
              "            background-color:  #58a1cf;\n",
              "            color:  #000000;\n",
              "        }#T_0e0d12b6_3f3f_11ec_acd1_0242ac1c0002row0_col5{\n",
              "            background-color:  #6dafd7;\n",
              "            color:  #000000;\n",
              "        }#T_0e0d12b6_3f3f_11ec_acd1_0242ac1c0002row0_col6,#T_0e0d12b6_3f3f_11ec_acd1_0242ac1c0002row0_col7,#T_0e0d12b6_3f3f_11ec_acd1_0242ac1c0002row0_col9,#T_0e0d12b6_3f3f_11ec_acd1_0242ac1c0002row2_col11,#T_0e0d12b6_3f3f_11ec_acd1_0242ac1c0002row4_col12,#T_0e0d12b6_3f3f_11ec_acd1_0242ac1c0002row4_col13,#T_0e0d12b6_3f3f_11ec_acd1_0242ac1c0002row7_col0,#T_0e0d12b6_3f3f_11ec_acd1_0242ac1c0002row7_col1,#T_0e0d12b6_3f3f_11ec_acd1_0242ac1c0002row7_col2,#T_0e0d12b6_3f3f_11ec_acd1_0242ac1c0002row7_col3,#T_0e0d12b6_3f3f_11ec_acd1_0242ac1c0002row7_col4,#T_0e0d12b6_3f3f_11ec_acd1_0242ac1c0002row7_col5,#T_0e0d12b6_3f3f_11ec_acd1_0242ac1c0002row7_col8,#T_0e0d12b6_3f3f_11ec_acd1_0242ac1c0002row7_col14,#T_0e0d12b6_3f3f_11ec_acd1_0242ac1c0002row7_col15,#T_0e0d12b6_3f3f_11ec_acd1_0242ac1c0002row14_col11,#T_0e0d12b6_3f3f_11ec_acd1_0242ac1c0002row15_col10{\n",
              "            background-color:  #f7fbff;\n",
              "            color:  #000000;\n",
              "        }#T_0e0d12b6_3f3f_11ec_acd1_0242ac1c0002row0_col8,#T_0e0d12b6_3f3f_11ec_acd1_0242ac1c0002row10_col0,#T_0e0d12b6_3f3f_11ec_acd1_0242ac1c0002row12_col0,#T_0e0d12b6_3f3f_11ec_acd1_0242ac1c0002row14_col4{\n",
              "            background-color:  #caddf0;\n",
              "            color:  #000000;\n",
              "        }#T_0e0d12b6_3f3f_11ec_acd1_0242ac1c0002row0_col10,#T_0e0d12b6_3f3f_11ec_acd1_0242ac1c0002row0_col13,#T_0e0d12b6_3f3f_11ec_acd1_0242ac1c0002row2_col12,#T_0e0d12b6_3f3f_11ec_acd1_0242ac1c0002row2_col13{\n",
              "            background-color:  #f5fafe;\n",
              "            color:  #000000;\n",
              "        }#T_0e0d12b6_3f3f_11ec_acd1_0242ac1c0002row0_col11,#T_0e0d12b6_3f3f_11ec_acd1_0242ac1c0002row3_col12,#T_0e0d12b6_3f3f_11ec_acd1_0242ac1c0002row11_col14,#T_0e0d12b6_3f3f_11ec_acd1_0242ac1c0002row15_col9{\n",
              "            background-color:  #f5f9fe;\n",
              "            color:  #000000;\n",
              "        }#T_0e0d12b6_3f3f_11ec_acd1_0242ac1c0002row0_col12,#T_0e0d12b6_3f3f_11ec_acd1_0242ac1c0002row1_col12,#T_0e0d12b6_3f3f_11ec_acd1_0242ac1c0002row5_col6,#T_0e0d12b6_3f3f_11ec_acd1_0242ac1c0002row7_col11,#T_0e0d12b6_3f3f_11ec_acd1_0242ac1c0002row8_col10,#T_0e0d12b6_3f3f_11ec_acd1_0242ac1c0002row9_col14{\n",
              "            background-color:  #f1f7fd;\n",
              "            color:  #000000;\n",
              "        }#T_0e0d12b6_3f3f_11ec_acd1_0242ac1c0002row0_col14,#T_0e0d12b6_3f3f_11ec_acd1_0242ac1c0002row3_col14,#T_0e0d12b6_3f3f_11ec_acd1_0242ac1c0002row6_col4,#T_0e0d12b6_3f3f_11ec_acd1_0242ac1c0002row12_col9,#T_0e0d12b6_3f3f_11ec_acd1_0242ac1c0002row13_col3,#T_0e0d12b6_3f3f_11ec_acd1_0242ac1c0002row14_col9{\n",
              "            background-color:  #e9f2fa;\n",
              "            color:  #000000;\n",
              "        }#T_0e0d12b6_3f3f_11ec_acd1_0242ac1c0002row0_col15{\n",
              "            background-color:  #bcd7eb;\n",
              "            color:  #000000;\n",
              "        }#T_0e0d12b6_3f3f_11ec_acd1_0242ac1c0002row1_col0{\n",
              "            background-color:  #3080bd;\n",
              "            color:  #000000;\n",
              "        }#T_0e0d12b6_3f3f_11ec_acd1_0242ac1c0002row1_col2{\n",
              "            background-color:  #95c5df;\n",
              "            color:  #000000;\n",
              "        }#T_0e0d12b6_3f3f_11ec_acd1_0242ac1c0002row1_col3{\n",
              "            background-color:  #b4d3e9;\n",
              "            color:  #000000;\n",
              "        }#T_0e0d12b6_3f3f_11ec_acd1_0242ac1c0002row1_col4{\n",
              "            background-color:  #81badb;\n",
              "            color:  #000000;\n",
              "        }#T_0e0d12b6_3f3f_11ec_acd1_0242ac1c0002row1_col5{\n",
              "            background-color:  #72b2d8;\n",
              "            color:  #000000;\n",
              "        }#T_0e0d12b6_3f3f_11ec_acd1_0242ac1c0002row1_col6,#T_0e0d12b6_3f3f_11ec_acd1_0242ac1c0002row1_col14,#T_0e0d12b6_3f3f_11ec_acd1_0242ac1c0002row4_col9,#T_0e0d12b6_3f3f_11ec_acd1_0242ac1c0002row4_col14,#T_0e0d12b6_3f3f_11ec_acd1_0242ac1c0002row9_col3{\n",
              "            background-color:  #eaf3fb;\n",
              "            color:  #000000;\n",
              "        }#T_0e0d12b6_3f3f_11ec_acd1_0242ac1c0002row1_col7,#T_0e0d12b6_3f3f_11ec_acd1_0242ac1c0002row2_col6,#T_0e0d12b6_3f3f_11ec_acd1_0242ac1c0002row2_col14,#T_0e0d12b6_3f3f_11ec_acd1_0242ac1c0002row8_col11,#T_0e0d12b6_3f3f_11ec_acd1_0242ac1c0002row10_col3,#T_0e0d12b6_3f3f_11ec_acd1_0242ac1c0002row12_col10,#T_0e0d12b6_3f3f_11ec_acd1_0242ac1c0002row12_col13{\n",
              "            background-color:  #e7f0fa;\n",
              "            color:  #000000;\n",
              "        }#T_0e0d12b6_3f3f_11ec_acd1_0242ac1c0002row1_col8{\n",
              "            background-color:  #cfe1f2;\n",
              "            color:  #000000;\n",
              "        }#T_0e0d12b6_3f3f_11ec_acd1_0242ac1c0002row1_col9,#T_0e0d12b6_3f3f_11ec_acd1_0242ac1c0002row1_col11,#T_0e0d12b6_3f3f_11ec_acd1_0242ac1c0002row6_col11,#T_0e0d12b6_3f3f_11ec_acd1_0242ac1c0002row9_col12{\n",
              "            background-color:  #f3f8fe;\n",
              "            color:  #000000;\n",
              "        }#T_0e0d12b6_3f3f_11ec_acd1_0242ac1c0002row1_col10,#T_0e0d12b6_3f3f_11ec_acd1_0242ac1c0002row2_col10,#T_0e0d12b6_3f3f_11ec_acd1_0242ac1c0002row3_col10,#T_0e0d12b6_3f3f_11ec_acd1_0242ac1c0002row5_col12,#T_0e0d12b6_3f3f_11ec_acd1_0242ac1c0002row5_col13{\n",
              "            background-color:  #f6faff;\n",
              "            color:  #000000;\n",
              "        }#T_0e0d12b6_3f3f_11ec_acd1_0242ac1c0002row1_col13,#T_0e0d12b6_3f3f_11ec_acd1_0242ac1c0002row5_col11,#T_0e0d12b6_3f3f_11ec_acd1_0242ac1c0002row6_col3,#T_0e0d12b6_3f3f_11ec_acd1_0242ac1c0002row7_col10,#T_0e0d12b6_3f3f_11ec_acd1_0242ac1c0002row8_col9{\n",
              "            background-color:  #f2f7fd;\n",
              "            color:  #000000;\n",
              "        }#T_0e0d12b6_3f3f_11ec_acd1_0242ac1c0002row1_col15,#T_0e0d12b6_3f3f_11ec_acd1_0242ac1c0002row10_col11,#T_0e0d12b6_3f3f_11ec_acd1_0242ac1c0002row15_col1{\n",
              "            background-color:  #c7dcef;\n",
              "            color:  #000000;\n",
              "        }#T_0e0d12b6_3f3f_11ec_acd1_0242ac1c0002row2_col0{\n",
              "            background-color:  #63a8d3;\n",
              "            color:  #000000;\n",
              "        }#T_0e0d12b6_3f3f_11ec_acd1_0242ac1c0002row2_col1{\n",
              "            background-color:  #8cc0dd;\n",
              "            color:  #000000;\n",
              "        }#T_0e0d12b6_3f3f_11ec_acd1_0242ac1c0002row2_col3{\n",
              "            background-color:  #3a8ac2;\n",
              "            color:  #000000;\n",
              "        }#T_0e0d12b6_3f3f_11ec_acd1_0242ac1c0002row2_col4{\n",
              "            background-color:  #66abd4;\n",
              "            color:  #000000;\n",
              "        }#T_0e0d12b6_3f3f_11ec_acd1_0242ac1c0002row2_col5{\n",
              "            background-color:  #69add5;\n",
              "            color:  #000000;\n",
              "        }#T_0e0d12b6_3f3f_11ec_acd1_0242ac1c0002row2_col7,#T_0e0d12b6_3f3f_11ec_acd1_0242ac1c0002row14_col3{\n",
              "            background-color:  #e0ecf8;\n",
              "            color:  #000000;\n",
              "        }#T_0e0d12b6_3f3f_11ec_acd1_0242ac1c0002row2_col8,#T_0e0d12b6_3f3f_11ec_acd1_0242ac1c0002row5_col8,#T_0e0d12b6_3f3f_11ec_acd1_0242ac1c0002row11_col5,#T_0e0d12b6_3f3f_11ec_acd1_0242ac1c0002row11_col15,#T_0e0d12b6_3f3f_11ec_acd1_0242ac1c0002row12_col4,#T_0e0d12b6_3f3f_11ec_acd1_0242ac1c0002row13_col4{\n",
              "            background-color:  #d2e3f3;\n",
              "            color:  #000000;\n",
              "        }#T_0e0d12b6_3f3f_11ec_acd1_0242ac1c0002row2_col9,#T_0e0d12b6_3f3f_11ec_acd1_0242ac1c0002row5_col7,#T_0e0d12b6_3f3f_11ec_acd1_0242ac1c0002row6_col2,#T_0e0d12b6_3f3f_11ec_acd1_0242ac1c0002row6_col8,#T_0e0d12b6_3f3f_11ec_acd1_0242ac1c0002row6_col15,#T_0e0d12b6_3f3f_11ec_acd1_0242ac1c0002row8_col12,#T_0e0d12b6_3f3f_11ec_acd1_0242ac1c0002row12_col14,#T_0e0d12b6_3f3f_11ec_acd1_0242ac1c0002row13_col14{\n",
              "            background-color:  #eef5fc;\n",
              "            color:  #000000;\n",
              "        }#T_0e0d12b6_3f3f_11ec_acd1_0242ac1c0002row2_col15,#T_0e0d12b6_3f3f_11ec_acd1_0242ac1c0002row9_col6,#T_0e0d12b6_3f3f_11ec_acd1_0242ac1c0002row10_col7,#T_0e0d12b6_3f3f_11ec_acd1_0242ac1c0002row13_col6{\n",
              "            background-color:  #c7dbef;\n",
              "            color:  #000000;\n",
              "        }#T_0e0d12b6_3f3f_11ec_acd1_0242ac1c0002row3_col0{\n",
              "            background-color:  #87bddc;\n",
              "            color:  #000000;\n",
              "        }#T_0e0d12b6_3f3f_11ec_acd1_0242ac1c0002row3_col1{\n",
              "            background-color:  #a1cbe2;\n",
              "            color:  #000000;\n",
              "        }#T_0e0d12b6_3f3f_11ec_acd1_0242ac1c0002row3_col2{\n",
              "            background-color:  #3686c0;\n",
              "            color:  #000000;\n",
              "        }#T_0e0d12b6_3f3f_11ec_acd1_0242ac1c0002row3_col4{\n",
              "            background-color:  #84bcdb;\n",
              "            color:  #000000;\n",
              "        }#T_0e0d12b6_3f3f_11ec_acd1_0242ac1c0002row3_col5{\n",
              "            background-color:  #75b4d8;\n",
              "            color:  #000000;\n",
              "        }#T_0e0d12b6_3f3f_11ec_acd1_0242ac1c0002row3_col6,#T_0e0d12b6_3f3f_11ec_acd1_0242ac1c0002row8_col3{\n",
              "            background-color:  #dfecf7;\n",
              "            color:  #000000;\n",
              "        }#T_0e0d12b6_3f3f_11ec_acd1_0242ac1c0002row3_col7,#T_0e0d12b6_3f3f_11ec_acd1_0242ac1c0002row10_col15,#T_0e0d12b6_3f3f_11ec_acd1_0242ac1c0002row12_col8,#T_0e0d12b6_3f3f_11ec_acd1_0242ac1c0002row12_col15,#T_0e0d12b6_3f3f_11ec_acd1_0242ac1c0002row13_col8,#T_0e0d12b6_3f3f_11ec_acd1_0242ac1c0002row14_col8{\n",
              "            background-color:  #d8e7f5;\n",
              "            color:  #000000;\n",
              "        }#T_0e0d12b6_3f3f_11ec_acd1_0242ac1c0002row3_col8{\n",
              "            background-color:  #d5e5f4;\n",
              "            color:  #000000;\n",
              "        }#T_0e0d12b6_3f3f_11ec_acd1_0242ac1c0002row3_col9,#T_0e0d12b6_3f3f_11ec_acd1_0242ac1c0002row8_col14,#T_0e0d12b6_3f3f_11ec_acd1_0242ac1c0002row15_col11{\n",
              "            background-color:  #ebf3fb;\n",
              "            color:  #000000;\n",
              "        }#T_0e0d12b6_3f3f_11ec_acd1_0242ac1c0002row3_col11,#T_0e0d12b6_3f3f_11ec_acd1_0242ac1c0002row3_col13,#T_0e0d12b6_3f3f_11ec_acd1_0242ac1c0002row4_col6,#T_0e0d12b6_3f3f_11ec_acd1_0242ac1c0002row4_col7,#T_0e0d12b6_3f3f_11ec_acd1_0242ac1c0002row4_col10,#T_0e0d12b6_3f3f_11ec_acd1_0242ac1c0002row5_col10,#T_0e0d12b6_3f3f_11ec_acd1_0242ac1c0002row6_col14,#T_0e0d12b6_3f3f_11ec_acd1_0242ac1c0002row14_col10{\n",
              "            background-color:  #f4f9fe;\n",
              "            color:  #000000;\n",
              "        }#T_0e0d12b6_3f3f_11ec_acd1_0242ac1c0002row3_col15{\n",
              "            background-color:  #cadef0;\n",
              "            color:  #000000;\n",
              "        }#T_0e0d12b6_3f3f_11ec_acd1_0242ac1c0002row4_col0{\n",
              "            background-color:  #56a0ce;\n",
              "            color:  #000000;\n",
              "        }#T_0e0d12b6_3f3f_11ec_acd1_0242ac1c0002row4_col1,#T_0e0d12b6_3f3f_11ec_acd1_0242ac1c0002row5_col3{\n",
              "            background-color:  #91c3de;\n",
              "            color:  #000000;\n",
              "        }#T_0e0d12b6_3f3f_11ec_acd1_0242ac1c0002row4_col2{\n",
              "            background-color:  #7cb7da;\n",
              "            color:  #000000;\n",
              "        }#T_0e0d12b6_3f3f_11ec_acd1_0242ac1c0002row4_col3,#T_0e0d12b6_3f3f_11ec_acd1_0242ac1c0002row15_col4{\n",
              "            background-color:  #a8cee4;\n",
              "            color:  #000000;\n",
              "        }#T_0e0d12b6_3f3f_11ec_acd1_0242ac1c0002row4_col5{\n",
              "            background-color:  #084d96;\n",
              "            color:  #f1f1f1;\n",
              "        }#T_0e0d12b6_3f3f_11ec_acd1_0242ac1c0002row4_col8,#T_0e0d12b6_3f3f_11ec_acd1_0242ac1c0002row7_col9,#T_0e0d12b6_3f3f_11ec_acd1_0242ac1c0002row13_col10,#T_0e0d12b6_3f3f_11ec_acd1_0242ac1c0002row14_col15{\n",
              "            background-color:  #d1e2f3;\n",
              "            color:  #000000;\n",
              "        }#T_0e0d12b6_3f3f_11ec_acd1_0242ac1c0002row4_col11,#T_0e0d12b6_3f3f_11ec_acd1_0242ac1c0002row9_col10,#T_0e0d12b6_3f3f_11ec_acd1_0242ac1c0002row15_col12{\n",
              "            background-color:  #f2f8fd;\n",
              "            color:  #000000;\n",
              "        }#T_0e0d12b6_3f3f_11ec_acd1_0242ac1c0002row4_col15{\n",
              "            background-color:  #b7d4ea;\n",
              "            color:  #000000;\n",
              "        }#T_0e0d12b6_3f3f_11ec_acd1_0242ac1c0002row5_col0{\n",
              "            background-color:  #64a9d3;\n",
              "            color:  #000000;\n",
              "        }#T_0e0d12b6_3f3f_11ec_acd1_0242ac1c0002row5_col2{\n",
              "            background-color:  #77b5d9;\n",
              "            color:  #000000;\n",
              "        }#T_0e0d12b6_3f3f_11ec_acd1_0242ac1c0002row5_col4{\n",
              "            background-color:  #084c95;\n",
              "            color:  #f1f1f1;\n",
              "        }#T_0e0d12b6_3f3f_11ec_acd1_0242ac1c0002row5_col9,#T_0e0d12b6_3f3f_11ec_acd1_0242ac1c0002row6_col1,#T_0e0d12b6_3f3f_11ec_acd1_0242ac1c0002row8_col13,#T_0e0d12b6_3f3f_11ec_acd1_0242ac1c0002row10_col14{\n",
              "            background-color:  #edf4fc;\n",
              "            color:  #000000;\n",
              "        }#T_0e0d12b6_3f3f_11ec_acd1_0242ac1c0002row5_col14,#T_0e0d12b6_3f3f_11ec_acd1_0242ac1c0002row6_col5,#T_0e0d12b6_3f3f_11ec_acd1_0242ac1c0002row15_col6{\n",
              "            background-color:  #ecf4fb;\n",
              "            color:  #000000;\n",
              "        }#T_0e0d12b6_3f3f_11ec_acd1_0242ac1c0002row5_col15{\n",
              "            background-color:  #b8d5ea;\n",
              "            color:  #000000;\n",
              "        }#T_0e0d12b6_3f3f_11ec_acd1_0242ac1c0002row6_col0,#T_0e0d12b6_3f3f_11ec_acd1_0242ac1c0002row11_col3,#T_0e0d12b6_3f3f_11ec_acd1_0242ac1c0002row15_col14{\n",
              "            background-color:  #e8f1fa;\n",
              "            color:  #000000;\n",
              "        }#T_0e0d12b6_3f3f_11ec_acd1_0242ac1c0002row6_col7{\n",
              "            background-color:  #084488;\n",
              "            color:  #f1f1f1;\n",
              "        }#T_0e0d12b6_3f3f_11ec_acd1_0242ac1c0002row6_col9,#T_0e0d12b6_3f3f_11ec_acd1_0242ac1c0002row12_col5{\n",
              "            background-color:  #d6e5f4;\n",
              "            color:  #000000;\n",
              "        }#T_0e0d12b6_3f3f_11ec_acd1_0242ac1c0002row6_col10,#T_0e0d12b6_3f3f_11ec_acd1_0242ac1c0002row6_col12,#T_0e0d12b6_3f3f_11ec_acd1_0242ac1c0002row9_col11,#T_0e0d12b6_3f3f_11ec_acd1_0242ac1c0002row14_col13{\n",
              "            background-color:  #eff6fc;\n",
              "            color:  #000000;\n",
              "        }#T_0e0d12b6_3f3f_11ec_acd1_0242ac1c0002row6_col13,#T_0e0d12b6_3f3f_11ec_acd1_0242ac1c0002row7_col13,#T_0e0d12b6_3f3f_11ec_acd1_0242ac1c0002row11_col12,#T_0e0d12b6_3f3f_11ec_acd1_0242ac1c0002row12_col11{\n",
              "            background-color:  #deebf7;\n",
              "            color:  #000000;\n",
              "        }#T_0e0d12b6_3f3f_11ec_acd1_0242ac1c0002row7_col6{\n",
              "            background-color:  #08458a;\n",
              "            color:  #f1f1f1;\n",
              "        }#T_0e0d12b6_3f3f_11ec_acd1_0242ac1c0002row7_col12,#T_0e0d12b6_3f3f_11ec_acd1_0242ac1c0002row14_col12,#T_0e0d12b6_3f3f_11ec_acd1_0242ac1c0002row15_col13{\n",
              "            background-color:  #f0f6fd;\n",
              "            color:  #000000;\n",
              "        }#T_0e0d12b6_3f3f_11ec_acd1_0242ac1c0002row8_col0{\n",
              "            background-color:  #b3d3e8;\n",
              "            color:  #000000;\n",
              "        }#T_0e0d12b6_3f3f_11ec_acd1_0242ac1c0002row8_col1,#T_0e0d12b6_3f3f_11ec_acd1_0242ac1c0002row10_col4,#T_0e0d12b6_3f3f_11ec_acd1_0242ac1c0002row11_col10{\n",
              "            background-color:  #cbdef1;\n",
              "            color:  #000000;\n",
              "        }#T_0e0d12b6_3f3f_11ec_acd1_0242ac1c0002row8_col2,#T_0e0d12b6_3f3f_11ec_acd1_0242ac1c0002row12_col6,#T_0e0d12b6_3f3f_11ec_acd1_0242ac1c0002row14_col1{\n",
              "            background-color:  #d4e4f4;\n",
              "            color:  #000000;\n",
              "        }#T_0e0d12b6_3f3f_11ec_acd1_0242ac1c0002row8_col4{\n",
              "            background-color:  #c2d9ee;\n",
              "            color:  #000000;\n",
              "        }#T_0e0d12b6_3f3f_11ec_acd1_0242ac1c0002row8_col5,#T_0e0d12b6_3f3f_11ec_acd1_0242ac1c0002row11_col7,#T_0e0d12b6_3f3f_11ec_acd1_0242ac1c0002row12_col7{\n",
              "            background-color:  #c9ddf0;\n",
              "            color:  #000000;\n",
              "        }#T_0e0d12b6_3f3f_11ec_acd1_0242ac1c0002row8_col6,#T_0e0d12b6_3f3f_11ec_acd1_0242ac1c0002row13_col12,#T_0e0d12b6_3f3f_11ec_acd1_0242ac1c0002row15_col7{\n",
              "            background-color:  #e7f1fa;\n",
              "            color:  #000000;\n",
              "        }#T_0e0d12b6_3f3f_11ec_acd1_0242ac1c0002row8_col7,#T_0e0d12b6_3f3f_11ec_acd1_0242ac1c0002row11_col2{\n",
              "            background-color:  #e3eef8;\n",
              "            color:  #000000;\n",
              "        }#T_0e0d12b6_3f3f_11ec_acd1_0242ac1c0002row8_col15{\n",
              "            background-color:  #529dcc;\n",
              "            color:  #000000;\n",
              "        }#T_0e0d12b6_3f3f_11ec_acd1_0242ac1c0002row9_col0,#T_0e0d12b6_3f3f_11ec_acd1_0242ac1c0002row10_col1,#T_0e0d12b6_3f3f_11ec_acd1_0242ac1c0002row10_col8,#T_0e0d12b6_3f3f_11ec_acd1_0242ac1c0002row11_col6,#T_0e0d12b6_3f3f_11ec_acd1_0242ac1c0002row12_col1{\n",
              "            background-color:  #d7e6f5;\n",
              "            color:  #000000;\n",
              "        }#T_0e0d12b6_3f3f_11ec_acd1_0242ac1c0002row9_col1,#T_0e0d12b6_3f3f_11ec_acd1_0242ac1c0002row10_col12,#T_0e0d12b6_3f3f_11ec_acd1_0242ac1c0002row13_col2{\n",
              "            background-color:  #e2edf8;\n",
              "            color:  #000000;\n",
              "        }#T_0e0d12b6_3f3f_11ec_acd1_0242ac1c0002row9_col2{\n",
              "            background-color:  #e4eff9;\n",
              "            color:  #000000;\n",
              "        }#T_0e0d12b6_3f3f_11ec_acd1_0242ac1c0002row9_col4,#T_0e0d12b6_3f3f_11ec_acd1_0242ac1c0002row10_col5,#T_0e0d12b6_3f3f_11ec_acd1_0242ac1c0002row14_col5{\n",
              "            background-color:  #d0e1f2;\n",
              "            color:  #000000;\n",
              "        }#T_0e0d12b6_3f3f_11ec_acd1_0242ac1c0002row9_col5,#T_0e0d12b6_3f3f_11ec_acd1_0242ac1c0002row13_col5,#T_0e0d12b6_3f3f_11ec_acd1_0242ac1c0002row13_col15,#T_0e0d12b6_3f3f_11ec_acd1_0242ac1c0002row14_col2{\n",
              "            background-color:  #d6e6f4;\n",
              "            color:  #000000;\n",
              "        }#T_0e0d12b6_3f3f_11ec_acd1_0242ac1c0002row9_col8,#T_0e0d12b6_3f3f_11ec_acd1_0242ac1c0002row9_col13,#T_0e0d12b6_3f3f_11ec_acd1_0242ac1c0002row11_col9{\n",
              "            background-color:  #e5eff9;\n",
              "            color:  #000000;\n",
              "        }#T_0e0d12b6_3f3f_11ec_acd1_0242ac1c0002row9_col15,#T_0e0d12b6_3f3f_11ec_acd1_0242ac1c0002row10_col9{\n",
              "            background-color:  #e3eef9;\n",
              "            color:  #000000;\n",
              "        }#T_0e0d12b6_3f3f_11ec_acd1_0242ac1c0002row10_col2{\n",
              "            background-color:  #ddeaf7;\n",
              "            color:  #000000;\n",
              "        }#T_0e0d12b6_3f3f_11ec_acd1_0242ac1c0002row10_col6,#T_0e0d12b6_3f3f_11ec_acd1_0242ac1c0002row14_col7{\n",
              "            background-color:  #d0e2f2;\n",
              "            color:  #000000;\n",
              "        }#T_0e0d12b6_3f3f_11ec_acd1_0242ac1c0002row10_col13,#T_0e0d12b6_3f3f_11ec_acd1_0242ac1c0002row11_col0,#T_0e0d12b6_3f3f_11ec_acd1_0242ac1c0002row15_col2{\n",
              "            background-color:  #cddff1;\n",
              "            color:  #000000;\n",
              "        }#T_0e0d12b6_3f3f_11ec_acd1_0242ac1c0002row11_col1,#T_0e0d12b6_3f3f_11ec_acd1_0242ac1c0002row13_col1,#T_0e0d12b6_3f3f_11ec_acd1_0242ac1c0002row15_col3{\n",
              "            background-color:  #d9e7f5;\n",
              "            color:  #000000;\n",
              "        }#T_0e0d12b6_3f3f_11ec_acd1_0242ac1c0002row11_col4,#T_0e0d12b6_3f3f_11ec_acd1_0242ac1c0002row13_col0{\n",
              "            background-color:  #cde0f1;\n",
              "            color:  #000000;\n",
              "        }#T_0e0d12b6_3f3f_11ec_acd1_0242ac1c0002row11_col8{\n",
              "            background-color:  #d3e3f3;\n",
              "            color:  #000000;\n",
              "        }#T_0e0d12b6_3f3f_11ec_acd1_0242ac1c0002row11_col13{\n",
              "            background-color:  #dbe9f6;\n",
              "            color:  #000000;\n",
              "        }#T_0e0d12b6_3f3f_11ec_acd1_0242ac1c0002row12_col2{\n",
              "            background-color:  #e1edf8;\n",
              "            color:  #000000;\n",
              "        }#T_0e0d12b6_3f3f_11ec_acd1_0242ac1c0002row12_col3{\n",
              "            background-color:  #eaf2fb;\n",
              "            color:  #000000;\n",
              "        }#T_0e0d12b6_3f3f_11ec_acd1_0242ac1c0002row13_col7{\n",
              "            background-color:  #b5d4e9;\n",
              "            color:  #000000;\n",
              "        }#T_0e0d12b6_3f3f_11ec_acd1_0242ac1c0002row13_col9{\n",
              "            background-color:  #dceaf6;\n",
              "            color:  #000000;\n",
              "        }#T_0e0d12b6_3f3f_11ec_acd1_0242ac1c0002row13_col11{\n",
              "            background-color:  #dce9f6;\n",
              "            color:  #000000;\n",
              "        }#T_0e0d12b6_3f3f_11ec_acd1_0242ac1c0002row14_col0{\n",
              "            background-color:  #c4daee;\n",
              "            color:  #000000;\n",
              "        }#T_0e0d12b6_3f3f_11ec_acd1_0242ac1c0002row14_col6{\n",
              "            background-color:  #dae8f6;\n",
              "            color:  #000000;\n",
              "        }#T_0e0d12b6_3f3f_11ec_acd1_0242ac1c0002row15_col0{\n",
              "            background-color:  #a9cfe5;\n",
              "            color:  #000000;\n",
              "        }#T_0e0d12b6_3f3f_11ec_acd1_0242ac1c0002row15_col5{\n",
              "            background-color:  #b0d2e7;\n",
              "            color:  #000000;\n",
              "        }#T_0e0d12b6_3f3f_11ec_acd1_0242ac1c0002row15_col8{\n",
              "            background-color:  #549fcd;\n",
              "            color:  #000000;\n",
              "        }</style><table id=\"T_0e0d12b6_3f3f_11ec_acd1_0242ac1c0002\" class=\"dataframe\"><thead>    <tr>        <th class=\"blank level0\" ></th>        <th class=\"col_heading level0 col0\" >Administrative</th>        <th class=\"col_heading level0 col1\" >Administrative_Duration</th>        <th class=\"col_heading level0 col2\" >Informational</th>        <th class=\"col_heading level0 col3\" >Informational_Duration</th>        <th class=\"col_heading level0 col4\" >ProductRelated</th>        <th class=\"col_heading level0 col5\" >ProductRelated_Duration</th>        <th class=\"col_heading level0 col6\" >BounceRates</th>        <th class=\"col_heading level0 col7\" >ExitRates</th>        <th class=\"col_heading level0 col8\" >PageValues</th>        <th class=\"col_heading level0 col9\" >SpecialDay</th>        <th class=\"col_heading level0 col10\" >OperatingSystems</th>        <th class=\"col_heading level0 col11\" >Browser</th>        <th class=\"col_heading level0 col12\" >Region</th>        <th class=\"col_heading level0 col13\" >TrafficType</th>        <th class=\"col_heading level0 col14\" >Weekend</th>        <th class=\"col_heading level0 col15\" >Revenue</th>    </tr></thead><tbody>\n",
              "                <tr>\n",
              "                        <th id=\"T_0e0d12b6_3f3f_11ec_acd1_0242ac1c0002level0_row0\" class=\"row_heading level0 row0\" >Administrative</th>\n",
              "                        <td id=\"T_0e0d12b6_3f3f_11ec_acd1_0242ac1c0002row0_col0\" class=\"data row0 col0\" >1.000000</td>\n",
              "                        <td id=\"T_0e0d12b6_3f3f_11ec_acd1_0242ac1c0002row0_col1\" class=\"data row0 col1\" >0.600457</td>\n",
              "                        <td id=\"T_0e0d12b6_3f3f_11ec_acd1_0242ac1c0002row0_col2\" class=\"data row0 col2\" >0.375256</td>\n",
              "                        <td id=\"T_0e0d12b6_3f3f_11ec_acd1_0242ac1c0002row0_col3\" class=\"data row0 col3\" >0.254813</td>\n",
              "                        <td id=\"T_0e0d12b6_3f3f_11ec_acd1_0242ac1c0002row0_col4\" class=\"data row0 col4\" >0.428305</td>\n",
              "                        <td id=\"T_0e0d12b6_3f3f_11ec_acd1_0242ac1c0002row0_col5\" class=\"data row0 col5\" >0.371146</td>\n",
              "                        <td id=\"T_0e0d12b6_3f3f_11ec_acd1_0242ac1c0002row0_col6\" class=\"data row0 col6\" >-0.213096</td>\n",
              "                        <td id=\"T_0e0d12b6_3f3f_11ec_acd1_0242ac1c0002row0_col7\" class=\"data row0 col7\" >-0.311255</td>\n",
              "                        <td id=\"T_0e0d12b6_3f3f_11ec_acd1_0242ac1c0002row0_col8\" class=\"data row0 col8\" >0.097017</td>\n",
              "                        <td id=\"T_0e0d12b6_3f3f_11ec_acd1_0242ac1c0002row0_col9\" class=\"data row0 col9\" >-0.096951</td>\n",
              "                        <td id=\"T_0e0d12b6_3f3f_11ec_acd1_0242ac1c0002row0_col10\" class=\"data row0 col10\" >-0.006586</td>\n",
              "                        <td id=\"T_0e0d12b6_3f3f_11ec_acd1_0242ac1c0002row0_col11\" class=\"data row0 col11\" >-0.025622</td>\n",
              "                        <td id=\"T_0e0d12b6_3f3f_11ec_acd1_0242ac1c0002row0_col12\" class=\"data row0 col12\" >-0.007262</td>\n",
              "                        <td id=\"T_0e0d12b6_3f3f_11ec_acd1_0242ac1c0002row0_col13\" class=\"data row0 col13\" >-0.034643</td>\n",
              "                        <td id=\"T_0e0d12b6_3f3f_11ec_acd1_0242ac1c0002row0_col14\" class=\"data row0 col14\" >0.023825</td>\n",
              "                        <td id=\"T_0e0d12b6_3f3f_11ec_acd1_0242ac1c0002row0_col15\" class=\"data row0 col15\" >0.136330</td>\n",
              "            </tr>\n",
              "            <tr>\n",
              "                        <th id=\"T_0e0d12b6_3f3f_11ec_acd1_0242ac1c0002level0_row1\" class=\"row_heading level0 row1\" >Administrative_Duration</th>\n",
              "                        <td id=\"T_0e0d12b6_3f3f_11ec_acd1_0242ac1c0002row1_col0\" class=\"data row1 col0\" >0.600457</td>\n",
              "                        <td id=\"T_0e0d12b6_3f3f_11ec_acd1_0242ac1c0002row1_col1\" class=\"data row1 col1\" >1.000000</td>\n",
              "                        <td id=\"T_0e0d12b6_3f3f_11ec_acd1_0242ac1c0002row1_col2\" class=\"data row1 col2\" >0.301419</td>\n",
              "                        <td id=\"T_0e0d12b6_3f3f_11ec_acd1_0242ac1c0002row1_col3\" class=\"data row1 col3\" >0.237211</td>\n",
              "                        <td id=\"T_0e0d12b6_3f3f_11ec_acd1_0242ac1c0002row1_col4\" class=\"data row1 col4\" >0.286863</td>\n",
              "                        <td id=\"T_0e0d12b6_3f3f_11ec_acd1_0242ac1c0002row1_col5\" class=\"data row1 col5\" >0.353583</td>\n",
              "                        <td id=\"T_0e0d12b6_3f3f_11ec_acd1_0242ac1c0002row1_col6\" class=\"data row1 col6\" >-0.136913</td>\n",
              "                        <td id=\"T_0e0d12b6_3f3f_11ec_acd1_0242ac1c0002row1_col7\" class=\"data row1 col7\" >-0.201971</td>\n",
              "                        <td id=\"T_0e0d12b6_3f3f_11ec_acd1_0242ac1c0002row1_col8\" class=\"data row1 col8\" >0.066228</td>\n",
              "                        <td id=\"T_0e0d12b6_3f3f_11ec_acd1_0242ac1c0002row1_col9\" class=\"data row1 col9\" >-0.074666</td>\n",
              "                        <td id=\"T_0e0d12b6_3f3f_11ec_acd1_0242ac1c0002row1_col10\" class=\"data row1 col10\" >-0.007529</td>\n",
              "                        <td id=\"T_0e0d12b6_3f3f_11ec_acd1_0242ac1c0002row1_col11\" class=\"data row1 col11\" >-0.015742</td>\n",
              "                        <td id=\"T_0e0d12b6_3f3f_11ec_acd1_0242ac1c0002row1_col12\" class=\"data row1 col12\" >-0.006729</td>\n",
              "                        <td id=\"T_0e0d12b6_3f3f_11ec_acd1_0242ac1c0002row1_col13\" class=\"data row1 col13\" >-0.014991</td>\n",
              "                        <td id=\"T_0e0d12b6_3f3f_11ec_acd1_0242ac1c0002row1_col14\" class=\"data row1 col14\" >0.013259</td>\n",
              "                        <td id=\"T_0e0d12b6_3f3f_11ec_acd1_0242ac1c0002row1_col15\" class=\"data row1 col15\" >0.091768</td>\n",
              "            </tr>\n",
              "            <tr>\n",
              "                        <th id=\"T_0e0d12b6_3f3f_11ec_acd1_0242ac1c0002level0_row2\" class=\"row_heading level0 row2\" >Informational</th>\n",
              "                        <td id=\"T_0e0d12b6_3f3f_11ec_acd1_0242ac1c0002row2_col0\" class=\"data row2 col0\" >0.375256</td>\n",
              "                        <td id=\"T_0e0d12b6_3f3f_11ec_acd1_0242ac1c0002row2_col1\" class=\"data row2 col1\" >0.301419</td>\n",
              "                        <td id=\"T_0e0d12b6_3f3f_11ec_acd1_0242ac1c0002row2_col2\" class=\"data row2 col2\" >1.000000</td>\n",
              "                        <td id=\"T_0e0d12b6_3f3f_11ec_acd1_0242ac1c0002row2_col3\" class=\"data row2 col3\" >0.618648</td>\n",
              "                        <td id=\"T_0e0d12b6_3f3f_11ec_acd1_0242ac1c0002row2_col4\" class=\"data row2 col4\" >0.372572</td>\n",
              "                        <td id=\"T_0e0d12b6_3f3f_11ec_acd1_0242ac1c0002row2_col5\" class=\"data row2 col5\" >0.386052</td>\n",
              "                        <td id=\"T_0e0d12b6_3f3f_11ec_acd1_0242ac1c0002row2_col6\" class=\"data row2 col6\" >-0.109095</td>\n",
              "                        <td id=\"T_0e0d12b6_3f3f_11ec_acd1_0242ac1c0002row2_col7\" class=\"data row2 col7\" >-0.159429</td>\n",
              "                        <td id=\"T_0e0d12b6_3f3f_11ec_acd1_0242ac1c0002row2_col8\" class=\"data row2 col8\" >0.047406</td>\n",
              "                        <td id=\"T_0e0d12b6_3f3f_11ec_acd1_0242ac1c0002row2_col9\" class=\"data row2 col9\" >-0.049350</td>\n",
              "                        <td id=\"T_0e0d12b6_3f3f_11ec_acd1_0242ac1c0002row2_col10\" class=\"data row2 col10\" >-0.009721</td>\n",
              "                        <td id=\"T_0e0d12b6_3f3f_11ec_acd1_0242ac1c0002row2_col11\" class=\"data row2 col11\" >-0.038787</td>\n",
              "                        <td id=\"T_0e0d12b6_3f3f_11ec_acd1_0242ac1c0002row2_col12\" class=\"data row2 col12\" >-0.030317</td>\n",
              "                        <td id=\"T_0e0d12b6_3f3f_11ec_acd1_0242ac1c0002row2_col13\" class=\"data row2 col13\" >-0.035197</td>\n",
              "                        <td id=\"T_0e0d12b6_3f3f_11ec_acd1_0242ac1c0002row2_col14\" class=\"data row2 col14\" >0.034359</td>\n",
              "                        <td id=\"T_0e0d12b6_3f3f_11ec_acd1_0242ac1c0002row2_col15\" class=\"data row2 col15\" >0.093626</td>\n",
              "            </tr>\n",
              "            <tr>\n",
              "                        <th id=\"T_0e0d12b6_3f3f_11ec_acd1_0242ac1c0002level0_row3\" class=\"row_heading level0 row3\" >Informational_Duration</th>\n",
              "                        <td id=\"T_0e0d12b6_3f3f_11ec_acd1_0242ac1c0002row3_col0\" class=\"data row3 col0\" >0.254813</td>\n",
              "                        <td id=\"T_0e0d12b6_3f3f_11ec_acd1_0242ac1c0002row3_col1\" class=\"data row3 col1\" >0.237211</td>\n",
              "                        <td id=\"T_0e0d12b6_3f3f_11ec_acd1_0242ac1c0002row3_col2\" class=\"data row3 col2\" >0.618648</td>\n",
              "                        <td id=\"T_0e0d12b6_3f3f_11ec_acd1_0242ac1c0002row3_col3\" class=\"data row3 col3\" >1.000000</td>\n",
              "                        <td id=\"T_0e0d12b6_3f3f_11ec_acd1_0242ac1c0002row3_col4\" class=\"data row3 col4\" >0.279082</td>\n",
              "                        <td id=\"T_0e0d12b6_3f3f_11ec_acd1_0242ac1c0002row3_col5\" class=\"data row3 col5\" >0.346596</td>\n",
              "                        <td id=\"T_0e0d12b6_3f3f_11ec_acd1_0242ac1c0002row3_col6\" class=\"data row3 col6\" >-0.069878</td>\n",
              "                        <td id=\"T_0e0d12b6_3f3f_11ec_acd1_0242ac1c0002row3_col7\" class=\"data row3 col7\" >-0.102852</td>\n",
              "                        <td id=\"T_0e0d12b6_3f3f_11ec_acd1_0242ac1c0002row3_col8\" class=\"data row3 col8\" >0.030090</td>\n",
              "                        <td id=\"T_0e0d12b6_3f3f_11ec_acd1_0242ac1c0002row3_col9\" class=\"data row3 col9\" >-0.031261</td>\n",
              "                        <td id=\"T_0e0d12b6_3f3f_11ec_acd1_0242ac1c0002row3_col10\" class=\"data row3 col10\" >-0.009734</td>\n",
              "                        <td id=\"T_0e0d12b6_3f3f_11ec_acd1_0242ac1c0002row3_col11\" class=\"data row3 col11\" >-0.019573</td>\n",
              "                        <td id=\"T_0e0d12b6_3f3f_11ec_acd1_0242ac1c0002row3_col12\" class=\"data row3 col12\" >-0.027891</td>\n",
              "                        <td id=\"T_0e0d12b6_3f3f_11ec_acd1_0242ac1c0002row3_col13\" class=\"data row3 col13\" >-0.025126</td>\n",
              "                        <td id=\"T_0e0d12b6_3f3f_11ec_acd1_0242ac1c0002row3_col14\" class=\"data row3 col14\" >0.023193</td>\n",
              "                        <td id=\"T_0e0d12b6_3f3f_11ec_acd1_0242ac1c0002row3_col15\" class=\"data row3 col15\" >0.069358</td>\n",
              "            </tr>\n",
              "            <tr>\n",
              "                        <th id=\"T_0e0d12b6_3f3f_11ec_acd1_0242ac1c0002level0_row4\" class=\"row_heading level0 row4\" >ProductRelated</th>\n",
              "                        <td id=\"T_0e0d12b6_3f3f_11ec_acd1_0242ac1c0002row4_col0\" class=\"data row4 col0\" >0.428305</td>\n",
              "                        <td id=\"T_0e0d12b6_3f3f_11ec_acd1_0242ac1c0002row4_col1\" class=\"data row4 col1\" >0.286863</td>\n",
              "                        <td id=\"T_0e0d12b6_3f3f_11ec_acd1_0242ac1c0002row4_col2\" class=\"data row4 col2\" >0.372572</td>\n",
              "                        <td id=\"T_0e0d12b6_3f3f_11ec_acd1_0242ac1c0002row4_col3\" class=\"data row4 col3\" >0.279082</td>\n",
              "                        <td id=\"T_0e0d12b6_3f3f_11ec_acd1_0242ac1c0002row4_col4\" class=\"data row4 col4\" >1.000000</td>\n",
              "                        <td id=\"T_0e0d12b6_3f3f_11ec_acd1_0242ac1c0002row4_col5\" class=\"data row4 col5\" >0.860330</td>\n",
              "                        <td id=\"T_0e0d12b6_3f3f_11ec_acd1_0242ac1c0002row4_col6\" class=\"data row4 col6\" >-0.192884</td>\n",
              "                        <td id=\"T_0e0d12b6_3f3f_11ec_acd1_0242ac1c0002row4_col7\" class=\"data row4 col7\" >-0.286082</td>\n",
              "                        <td id=\"T_0e0d12b6_3f3f_11ec_acd1_0242ac1c0002row4_col8\" class=\"data row4 col8\" >0.054201</td>\n",
              "                        <td id=\"T_0e0d12b6_3f3f_11ec_acd1_0242ac1c0002row4_col9\" class=\"data row4 col9\" >-0.025839</td>\n",
              "                        <td id=\"T_0e0d12b6_3f3f_11ec_acd1_0242ac1c0002row4_col10\" class=\"data row4 col10\" >0.004194</td>\n",
              "                        <td id=\"T_0e0d12b6_3f3f_11ec_acd1_0242ac1c0002row4_col11\" class=\"data row4 col11\" >-0.013586</td>\n",
              "                        <td id=\"T_0e0d12b6_3f3f_11ec_acd1_0242ac1c0002row4_col12\" class=\"data row4 col12\" >-0.040108</td>\n",
              "                        <td id=\"T_0e0d12b6_3f3f_11ec_acd1_0242ac1c0002row4_col13\" class=\"data row4 col13\" >-0.044223</td>\n",
              "                        <td id=\"T_0e0d12b6_3f3f_11ec_acd1_0242ac1c0002row4_col14\" class=\"data row4 col14\" >0.013477</td>\n",
              "                        <td id=\"T_0e0d12b6_3f3f_11ec_acd1_0242ac1c0002row4_col15\" class=\"data row4 col15\" >0.156042</td>\n",
              "            </tr>\n",
              "            <tr>\n",
              "                        <th id=\"T_0e0d12b6_3f3f_11ec_acd1_0242ac1c0002level0_row5\" class=\"row_heading level0 row5\" >ProductRelated_Duration</th>\n",
              "                        <td id=\"T_0e0d12b6_3f3f_11ec_acd1_0242ac1c0002row5_col0\" class=\"data row5 col0\" >0.371146</td>\n",
              "                        <td id=\"T_0e0d12b6_3f3f_11ec_acd1_0242ac1c0002row5_col1\" class=\"data row5 col1\" >0.353583</td>\n",
              "                        <td id=\"T_0e0d12b6_3f3f_11ec_acd1_0242ac1c0002row5_col2\" class=\"data row5 col2\" >0.386052</td>\n",
              "                        <td id=\"T_0e0d12b6_3f3f_11ec_acd1_0242ac1c0002row5_col3\" class=\"data row5 col3\" >0.346596</td>\n",
              "                        <td id=\"T_0e0d12b6_3f3f_11ec_acd1_0242ac1c0002row5_col4\" class=\"data row5 col4\" >0.860330</td>\n",
              "                        <td id=\"T_0e0d12b6_3f3f_11ec_acd1_0242ac1c0002row5_col5\" class=\"data row5 col5\" >1.000000</td>\n",
              "                        <td id=\"T_0e0d12b6_3f3f_11ec_acd1_0242ac1c0002row5_col6\" class=\"data row5 col6\" >-0.173829</td>\n",
              "                        <td id=\"T_0e0d12b6_3f3f_11ec_acd1_0242ac1c0002row5_col7\" class=\"data row5 col7\" >-0.245265</td>\n",
              "                        <td id=\"T_0e0d12b6_3f3f_11ec_acd1_0242ac1c0002row5_col8\" class=\"data row5 col8\" >0.050923</td>\n",
              "                        <td id=\"T_0e0d12b6_3f3f_11ec_acd1_0242ac1c0002row5_col9\" class=\"data row5 col9\" >-0.038122</td>\n",
              "                        <td id=\"T_0e0d12b6_3f3f_11ec_acd1_0242ac1c0002row5_col10\" class=\"data row5 col10\" >0.002870</td>\n",
              "                        <td id=\"T_0e0d12b6_3f3f_11ec_acd1_0242ac1c0002row5_col11\" class=\"data row5 col11\" >-0.007724</td>\n",
              "                        <td id=\"T_0e0d12b6_3f3f_11ec_acd1_0242ac1c0002row5_col12\" class=\"data row5 col12\" >-0.034869</td>\n",
              "                        <td id=\"T_0e0d12b6_3f3f_11ec_acd1_0242ac1c0002row5_col13\" class=\"data row5 col13\" >-0.037390</td>\n",
              "                        <td id=\"T_0e0d12b6_3f3f_11ec_acd1_0242ac1c0002row5_col14\" class=\"data row5 col14\" >0.004903</td>\n",
              "                        <td id=\"T_0e0d12b6_3f3f_11ec_acd1_0242ac1c0002row5_col15\" class=\"data row5 col15\" >0.150077</td>\n",
              "            </tr>\n",
              "            <tr>\n",
              "                        <th id=\"T_0e0d12b6_3f3f_11ec_acd1_0242ac1c0002level0_row6\" class=\"row_heading level0 row6\" >BounceRates</th>\n",
              "                        <td id=\"T_0e0d12b6_3f3f_11ec_acd1_0242ac1c0002row6_col0\" class=\"data row6 col0\" >-0.213096</td>\n",
              "                        <td id=\"T_0e0d12b6_3f3f_11ec_acd1_0242ac1c0002row6_col1\" class=\"data row6 col1\" >-0.136913</td>\n",
              "                        <td id=\"T_0e0d12b6_3f3f_11ec_acd1_0242ac1c0002row6_col2\" class=\"data row6 col2\" >-0.109095</td>\n",
              "                        <td id=\"T_0e0d12b6_3f3f_11ec_acd1_0242ac1c0002row6_col3\" class=\"data row6 col3\" >-0.069878</td>\n",
              "                        <td id=\"T_0e0d12b6_3f3f_11ec_acd1_0242ac1c0002row6_col4\" class=\"data row6 col4\" >-0.192884</td>\n",
              "                        <td id=\"T_0e0d12b6_3f3f_11ec_acd1_0242ac1c0002row6_col5\" class=\"data row6 col5\" >-0.173829</td>\n",
              "                        <td id=\"T_0e0d12b6_3f3f_11ec_acd1_0242ac1c0002row6_col6\" class=\"data row6 col6\" >1.000000</td>\n",
              "                        <td id=\"T_0e0d12b6_3f3f_11ec_acd1_0242ac1c0002row6_col7\" class=\"data row6 col7\" >0.902144</td>\n",
              "                        <td id=\"T_0e0d12b6_3f3f_11ec_acd1_0242ac1c0002row6_col8\" class=\"data row6 col8\" >-0.115799</td>\n",
              "                        <td id=\"T_0e0d12b6_3f3f_11ec_acd1_0242ac1c0002row6_col9\" class=\"data row6 col9\" >0.088626</td>\n",
              "                        <td id=\"T_0e0d12b6_3f3f_11ec_acd1_0242ac1c0002row6_col10\" class=\"data row6 col10\" >0.026811</td>\n",
              "                        <td id=\"T_0e0d12b6_3f3f_11ec_acd1_0242ac1c0002row6_col11\" class=\"data row6 col11\" >-0.015501</td>\n",
              "                        <td id=\"T_0e0d12b6_3f3f_11ec_acd1_0242ac1c0002row6_col12\" class=\"data row6 col12\" >0.002787</td>\n",
              "                        <td id=\"T_0e0d12b6_3f3f_11ec_acd1_0242ac1c0002row6_col13\" class=\"data row6 col13\" >0.089184</td>\n",
              "                        <td id=\"T_0e0d12b6_3f3f_11ec_acd1_0242ac1c0002row6_col14\" class=\"data row6 col14\" >-0.034808</td>\n",
              "                        <td id=\"T_0e0d12b6_3f3f_11ec_acd1_0242ac1c0002row6_col15\" class=\"data row6 col15\" >-0.145091</td>\n",
              "            </tr>\n",
              "            <tr>\n",
              "                        <th id=\"T_0e0d12b6_3f3f_11ec_acd1_0242ac1c0002level0_row7\" class=\"row_heading level0 row7\" >ExitRates</th>\n",
              "                        <td id=\"T_0e0d12b6_3f3f_11ec_acd1_0242ac1c0002row7_col0\" class=\"data row7 col0\" >-0.311255</td>\n",
              "                        <td id=\"T_0e0d12b6_3f3f_11ec_acd1_0242ac1c0002row7_col1\" class=\"data row7 col1\" >-0.201971</td>\n",
              "                        <td id=\"T_0e0d12b6_3f3f_11ec_acd1_0242ac1c0002row7_col2\" class=\"data row7 col2\" >-0.159429</td>\n",
              "                        <td id=\"T_0e0d12b6_3f3f_11ec_acd1_0242ac1c0002row7_col3\" class=\"data row7 col3\" >-0.102852</td>\n",
              "                        <td id=\"T_0e0d12b6_3f3f_11ec_acd1_0242ac1c0002row7_col4\" class=\"data row7 col4\" >-0.286082</td>\n",
              "                        <td id=\"T_0e0d12b6_3f3f_11ec_acd1_0242ac1c0002row7_col5\" class=\"data row7 col5\" >-0.245265</td>\n",
              "                        <td id=\"T_0e0d12b6_3f3f_11ec_acd1_0242ac1c0002row7_col6\" class=\"data row7 col6\" >0.902144</td>\n",
              "                        <td id=\"T_0e0d12b6_3f3f_11ec_acd1_0242ac1c0002row7_col7\" class=\"data row7 col7\" >1.000000</td>\n",
              "                        <td id=\"T_0e0d12b6_3f3f_11ec_acd1_0242ac1c0002row7_col8\" class=\"data row7 col8\" >-0.173627</td>\n",
              "                        <td id=\"T_0e0d12b6_3f3f_11ec_acd1_0242ac1c0002row7_col9\" class=\"data row7 col9\" >0.117176</td>\n",
              "                        <td id=\"T_0e0d12b6_3f3f_11ec_acd1_0242ac1c0002row7_col10\" class=\"data row7 col10\" >0.016345</td>\n",
              "                        <td id=\"T_0e0d12b6_3f3f_11ec_acd1_0242ac1c0002row7_col11\" class=\"data row7 col11\" >-0.003323</td>\n",
              "                        <td id=\"T_0e0d12b6_3f3f_11ec_acd1_0242ac1c0002row7_col12\" class=\"data row7 col12\" >-0.000987</td>\n",
              "                        <td id=\"T_0e0d12b6_3f3f_11ec_acd1_0242ac1c0002row7_col13\" class=\"data row7 col13\" >0.087478</td>\n",
              "                        <td id=\"T_0e0d12b6_3f3f_11ec_acd1_0242ac1c0002row7_col14\" class=\"data row7 col14\" >-0.053061</td>\n",
              "                        <td id=\"T_0e0d12b6_3f3f_11ec_acd1_0242ac1c0002row7_col15\" class=\"data row7 col15\" >-0.204320</td>\n",
              "            </tr>\n",
              "            <tr>\n",
              "                        <th id=\"T_0e0d12b6_3f3f_11ec_acd1_0242ac1c0002level0_row8\" class=\"row_heading level0 row8\" >PageValues</th>\n",
              "                        <td id=\"T_0e0d12b6_3f3f_11ec_acd1_0242ac1c0002row8_col0\" class=\"data row8 col0\" >0.097017</td>\n",
              "                        <td id=\"T_0e0d12b6_3f3f_11ec_acd1_0242ac1c0002row8_col1\" class=\"data row8 col1\" >0.066228</td>\n",
              "                        <td id=\"T_0e0d12b6_3f3f_11ec_acd1_0242ac1c0002row8_col2\" class=\"data row8 col2\" >0.047406</td>\n",
              "                        <td id=\"T_0e0d12b6_3f3f_11ec_acd1_0242ac1c0002row8_col3\" class=\"data row8 col3\" >0.030090</td>\n",
              "                        <td id=\"T_0e0d12b6_3f3f_11ec_acd1_0242ac1c0002row8_col4\" class=\"data row8 col4\" >0.054201</td>\n",
              "                        <td id=\"T_0e0d12b6_3f3f_11ec_acd1_0242ac1c0002row8_col5\" class=\"data row8 col5\" >0.050923</td>\n",
              "                        <td id=\"T_0e0d12b6_3f3f_11ec_acd1_0242ac1c0002row8_col6\" class=\"data row8 col6\" >-0.115799</td>\n",
              "                        <td id=\"T_0e0d12b6_3f3f_11ec_acd1_0242ac1c0002row8_col7\" class=\"data row8 col7\" >-0.173627</td>\n",
              "                        <td id=\"T_0e0d12b6_3f3f_11ec_acd1_0242ac1c0002row8_col8\" class=\"data row8 col8\" >1.000000</td>\n",
              "                        <td id=\"T_0e0d12b6_3f3f_11ec_acd1_0242ac1c0002row8_col9\" class=\"data row8 col9\" >-0.064481</td>\n",
              "                        <td id=\"T_0e0d12b6_3f3f_11ec_acd1_0242ac1c0002row8_col10\" class=\"data row8 col10\" >0.018632</td>\n",
              "                        <td id=\"T_0e0d12b6_3f3f_11ec_acd1_0242ac1c0002row8_col11\" class=\"data row8 col11\" >0.045908</td>\n",
              "                        <td id=\"T_0e0d12b6_3f3f_11ec_acd1_0242ac1c0002row8_col12\" class=\"data row8 col12\" >0.010588</td>\n",
              "                        <td id=\"T_0e0d12b6_3f3f_11ec_acd1_0242ac1c0002row8_col13\" class=\"data row8 col13\" >0.012286</td>\n",
              "                        <td id=\"T_0e0d12b6_3f3f_11ec_acd1_0242ac1c0002row8_col14\" class=\"data row8 col14\" >0.010801</td>\n",
              "                        <td id=\"T_0e0d12b6_3f3f_11ec_acd1_0242ac1c0002row8_col15\" class=\"data row8 col15\" >0.491894</td>\n",
              "            </tr>\n",
              "            <tr>\n",
              "                        <th id=\"T_0e0d12b6_3f3f_11ec_acd1_0242ac1c0002level0_row9\" class=\"row_heading level0 row9\" >SpecialDay</th>\n",
              "                        <td id=\"T_0e0d12b6_3f3f_11ec_acd1_0242ac1c0002row9_col0\" class=\"data row9 col0\" >-0.096951</td>\n",
              "                        <td id=\"T_0e0d12b6_3f3f_11ec_acd1_0242ac1c0002row9_col1\" class=\"data row9 col1\" >-0.074666</td>\n",
              "                        <td id=\"T_0e0d12b6_3f3f_11ec_acd1_0242ac1c0002row9_col2\" class=\"data row9 col2\" >-0.049350</td>\n",
              "                        <td id=\"T_0e0d12b6_3f3f_11ec_acd1_0242ac1c0002row9_col3\" class=\"data row9 col3\" >-0.031261</td>\n",
              "                        <td id=\"T_0e0d12b6_3f3f_11ec_acd1_0242ac1c0002row9_col4\" class=\"data row9 col4\" >-0.025839</td>\n",
              "                        <td id=\"T_0e0d12b6_3f3f_11ec_acd1_0242ac1c0002row9_col5\" class=\"data row9 col5\" >-0.038122</td>\n",
              "                        <td id=\"T_0e0d12b6_3f3f_11ec_acd1_0242ac1c0002row9_col6\" class=\"data row9 col6\" >0.088626</td>\n",
              "                        <td id=\"T_0e0d12b6_3f3f_11ec_acd1_0242ac1c0002row9_col7\" class=\"data row9 col7\" >0.117176</td>\n",
              "                        <td id=\"T_0e0d12b6_3f3f_11ec_acd1_0242ac1c0002row9_col8\" class=\"data row9 col8\" >-0.064481</td>\n",
              "                        <td id=\"T_0e0d12b6_3f3f_11ec_acd1_0242ac1c0002row9_col9\" class=\"data row9 col9\" >1.000000</td>\n",
              "                        <td id=\"T_0e0d12b6_3f3f_11ec_acd1_0242ac1c0002row9_col10\" class=\"data row9 col10\" >0.012806</td>\n",
              "                        <td id=\"T_0e0d12b6_3f3f_11ec_acd1_0242ac1c0002row9_col11\" class=\"data row9 col11\" >0.003528</td>\n",
              "                        <td id=\"T_0e0d12b6_3f3f_11ec_acd1_0242ac1c0002row9_col12\" class=\"data row9 col12\" >-0.016450</td>\n",
              "                        <td id=\"T_0e0d12b6_3f3f_11ec_acd1_0242ac1c0002row9_col13\" class=\"data row9 col13\" >0.052856</td>\n",
              "                        <td id=\"T_0e0d12b6_3f3f_11ec_acd1_0242ac1c0002row9_col14\" class=\"data row9 col14\" >-0.017723</td>\n",
              "                        <td id=\"T_0e0d12b6_3f3f_11ec_acd1_0242ac1c0002row9_col15\" class=\"data row9 col15\" >-0.083601</td>\n",
              "            </tr>\n",
              "            <tr>\n",
              "                        <th id=\"T_0e0d12b6_3f3f_11ec_acd1_0242ac1c0002level0_row10\" class=\"row_heading level0 row10\" >OperatingSystems</th>\n",
              "                        <td id=\"T_0e0d12b6_3f3f_11ec_acd1_0242ac1c0002row10_col0\" class=\"data row10 col0\" >-0.006586</td>\n",
              "                        <td id=\"T_0e0d12b6_3f3f_11ec_acd1_0242ac1c0002row10_col1\" class=\"data row10 col1\" >-0.007529</td>\n",
              "                        <td id=\"T_0e0d12b6_3f3f_11ec_acd1_0242ac1c0002row10_col2\" class=\"data row10 col2\" >-0.009721</td>\n",
              "                        <td id=\"T_0e0d12b6_3f3f_11ec_acd1_0242ac1c0002row10_col3\" class=\"data row10 col3\" >-0.009734</td>\n",
              "                        <td id=\"T_0e0d12b6_3f3f_11ec_acd1_0242ac1c0002row10_col4\" class=\"data row10 col4\" >0.004194</td>\n",
              "                        <td id=\"T_0e0d12b6_3f3f_11ec_acd1_0242ac1c0002row10_col5\" class=\"data row10 col5\" >0.002870</td>\n",
              "                        <td id=\"T_0e0d12b6_3f3f_11ec_acd1_0242ac1c0002row10_col6\" class=\"data row10 col6\" >0.026811</td>\n",
              "                        <td id=\"T_0e0d12b6_3f3f_11ec_acd1_0242ac1c0002row10_col7\" class=\"data row10 col7\" >0.016345</td>\n",
              "                        <td id=\"T_0e0d12b6_3f3f_11ec_acd1_0242ac1c0002row10_col8\" class=\"data row10 col8\" >0.018632</td>\n",
              "                        <td id=\"T_0e0d12b6_3f3f_11ec_acd1_0242ac1c0002row10_col9\" class=\"data row10 col9\" >0.012806</td>\n",
              "                        <td id=\"T_0e0d12b6_3f3f_11ec_acd1_0242ac1c0002row10_col10\" class=\"data row10 col10\" >1.000000</td>\n",
              "                        <td id=\"T_0e0d12b6_3f3f_11ec_acd1_0242ac1c0002row10_col11\" class=\"data row10 col11\" >0.212335</td>\n",
              "                        <td id=\"T_0e0d12b6_3f3f_11ec_acd1_0242ac1c0002row10_col12\" class=\"data row10 col12\" >0.071864</td>\n",
              "                        <td id=\"T_0e0d12b6_3f3f_11ec_acd1_0242ac1c0002row10_col13\" class=\"data row10 col13\" >0.183074</td>\n",
              "                        <td id=\"T_0e0d12b6_3f3f_11ec_acd1_0242ac1c0002row10_col14\" class=\"data row10 col14\" >0.001894</td>\n",
              "                        <td id=\"T_0e0d12b6_3f3f_11ec_acd1_0242ac1c0002row10_col15\" class=\"data row10 col15\" >-0.014927</td>\n",
              "            </tr>\n",
              "            <tr>\n",
              "                        <th id=\"T_0e0d12b6_3f3f_11ec_acd1_0242ac1c0002level0_row11\" class=\"row_heading level0 row11\" >Browser</th>\n",
              "                        <td id=\"T_0e0d12b6_3f3f_11ec_acd1_0242ac1c0002row11_col0\" class=\"data row11 col0\" >-0.025622</td>\n",
              "                        <td id=\"T_0e0d12b6_3f3f_11ec_acd1_0242ac1c0002row11_col1\" class=\"data row11 col1\" >-0.015742</td>\n",
              "                        <td id=\"T_0e0d12b6_3f3f_11ec_acd1_0242ac1c0002row11_col2\" class=\"data row11 col2\" >-0.038787</td>\n",
              "                        <td id=\"T_0e0d12b6_3f3f_11ec_acd1_0242ac1c0002row11_col3\" class=\"data row11 col3\" >-0.019573</td>\n",
              "                        <td id=\"T_0e0d12b6_3f3f_11ec_acd1_0242ac1c0002row11_col4\" class=\"data row11 col4\" >-0.013586</td>\n",
              "                        <td id=\"T_0e0d12b6_3f3f_11ec_acd1_0242ac1c0002row11_col5\" class=\"data row11 col5\" >-0.007724</td>\n",
              "                        <td id=\"T_0e0d12b6_3f3f_11ec_acd1_0242ac1c0002row11_col6\" class=\"data row11 col6\" >-0.015501</td>\n",
              "                        <td id=\"T_0e0d12b6_3f3f_11ec_acd1_0242ac1c0002row11_col7\" class=\"data row11 col7\" >-0.003323</td>\n",
              "                        <td id=\"T_0e0d12b6_3f3f_11ec_acd1_0242ac1c0002row11_col8\" class=\"data row11 col8\" >0.045908</td>\n",
              "                        <td id=\"T_0e0d12b6_3f3f_11ec_acd1_0242ac1c0002row11_col9\" class=\"data row11 col9\" >0.003528</td>\n",
              "                        <td id=\"T_0e0d12b6_3f3f_11ec_acd1_0242ac1c0002row11_col10\" class=\"data row11 col10\" >0.212335</td>\n",
              "                        <td id=\"T_0e0d12b6_3f3f_11ec_acd1_0242ac1c0002row11_col11\" class=\"data row11 col11\" >1.000000</td>\n",
              "                        <td id=\"T_0e0d12b6_3f3f_11ec_acd1_0242ac1c0002row11_col12\" class=\"data row11 col12\" >0.092038</td>\n",
              "                        <td id=\"T_0e0d12b6_3f3f_11ec_acd1_0242ac1c0002row11_col13\" class=\"data row11 col13\" >0.102868</td>\n",
              "                        <td id=\"T_0e0d12b6_3f3f_11ec_acd1_0242ac1c0002row11_col14\" class=\"data row11 col14\" >-0.039704</td>\n",
              "                        <td id=\"T_0e0d12b6_3f3f_11ec_acd1_0242ac1c0002row11_col15\" class=\"data row11 col15\" >0.024052</td>\n",
              "            </tr>\n",
              "            <tr>\n",
              "                        <th id=\"T_0e0d12b6_3f3f_11ec_acd1_0242ac1c0002level0_row12\" class=\"row_heading level0 row12\" >Region</th>\n",
              "                        <td id=\"T_0e0d12b6_3f3f_11ec_acd1_0242ac1c0002row12_col0\" class=\"data row12 col0\" >-0.007262</td>\n",
              "                        <td id=\"T_0e0d12b6_3f3f_11ec_acd1_0242ac1c0002row12_col1\" class=\"data row12 col1\" >-0.006729</td>\n",
              "                        <td id=\"T_0e0d12b6_3f3f_11ec_acd1_0242ac1c0002row12_col2\" class=\"data row12 col2\" >-0.030317</td>\n",
              "                        <td id=\"T_0e0d12b6_3f3f_11ec_acd1_0242ac1c0002row12_col3\" class=\"data row12 col3\" >-0.027891</td>\n",
              "                        <td id=\"T_0e0d12b6_3f3f_11ec_acd1_0242ac1c0002row12_col4\" class=\"data row12 col4\" >-0.040108</td>\n",
              "                        <td id=\"T_0e0d12b6_3f3f_11ec_acd1_0242ac1c0002row12_col5\" class=\"data row12 col5\" >-0.034869</td>\n",
              "                        <td id=\"T_0e0d12b6_3f3f_11ec_acd1_0242ac1c0002row12_col6\" class=\"data row12 col6\" >0.002787</td>\n",
              "                        <td id=\"T_0e0d12b6_3f3f_11ec_acd1_0242ac1c0002row12_col7\" class=\"data row12 col7\" >-0.000987</td>\n",
              "                        <td id=\"T_0e0d12b6_3f3f_11ec_acd1_0242ac1c0002row12_col8\" class=\"data row12 col8\" >0.010588</td>\n",
              "                        <td id=\"T_0e0d12b6_3f3f_11ec_acd1_0242ac1c0002row12_col9\" class=\"data row12 col9\" >-0.016450</td>\n",
              "                        <td id=\"T_0e0d12b6_3f3f_11ec_acd1_0242ac1c0002row12_col10\" class=\"data row12 col10\" >0.071864</td>\n",
              "                        <td id=\"T_0e0d12b6_3f3f_11ec_acd1_0242ac1c0002row12_col11\" class=\"data row12 col11\" >0.092038</td>\n",
              "                        <td id=\"T_0e0d12b6_3f3f_11ec_acd1_0242ac1c0002row12_col12\" class=\"data row12 col12\" >1.000000</td>\n",
              "                        <td id=\"T_0e0d12b6_3f3f_11ec_acd1_0242ac1c0002row12_col13\" class=\"data row12 col13\" >0.042873</td>\n",
              "                        <td id=\"T_0e0d12b6_3f3f_11ec_acd1_0242ac1c0002row12_col14\" class=\"data row12 col14\" >-0.001553</td>\n",
              "                        <td id=\"T_0e0d12b6_3f3f_11ec_acd1_0242ac1c0002row12_col15\" class=\"data row12 col15\" >-0.012725</td>\n",
              "            </tr>\n",
              "            <tr>\n",
              "                        <th id=\"T_0e0d12b6_3f3f_11ec_acd1_0242ac1c0002level0_row13\" class=\"row_heading level0 row13\" >TrafficType</th>\n",
              "                        <td id=\"T_0e0d12b6_3f3f_11ec_acd1_0242ac1c0002row13_col0\" class=\"data row13 col0\" >-0.034643</td>\n",
              "                        <td id=\"T_0e0d12b6_3f3f_11ec_acd1_0242ac1c0002row13_col1\" class=\"data row13 col1\" >-0.014991</td>\n",
              "                        <td id=\"T_0e0d12b6_3f3f_11ec_acd1_0242ac1c0002row13_col2\" class=\"data row13 col2\" >-0.035197</td>\n",
              "                        <td id=\"T_0e0d12b6_3f3f_11ec_acd1_0242ac1c0002row13_col3\" class=\"data row13 col3\" >-0.025126</td>\n",
              "                        <td id=\"T_0e0d12b6_3f3f_11ec_acd1_0242ac1c0002row13_col4\" class=\"data row13 col4\" >-0.044223</td>\n",
              "                        <td id=\"T_0e0d12b6_3f3f_11ec_acd1_0242ac1c0002row13_col5\" class=\"data row13 col5\" >-0.037390</td>\n",
              "                        <td id=\"T_0e0d12b6_3f3f_11ec_acd1_0242ac1c0002row13_col6\" class=\"data row13 col6\" >0.089184</td>\n",
              "                        <td id=\"T_0e0d12b6_3f3f_11ec_acd1_0242ac1c0002row13_col7\" class=\"data row13 col7\" >0.087478</td>\n",
              "                        <td id=\"T_0e0d12b6_3f3f_11ec_acd1_0242ac1c0002row13_col8\" class=\"data row13 col8\" >0.012286</td>\n",
              "                        <td id=\"T_0e0d12b6_3f3f_11ec_acd1_0242ac1c0002row13_col9\" class=\"data row13 col9\" >0.052856</td>\n",
              "                        <td id=\"T_0e0d12b6_3f3f_11ec_acd1_0242ac1c0002row13_col10\" class=\"data row13 col10\" >0.183074</td>\n",
              "                        <td id=\"T_0e0d12b6_3f3f_11ec_acd1_0242ac1c0002row13_col11\" class=\"data row13 col11\" >0.102868</td>\n",
              "                        <td id=\"T_0e0d12b6_3f3f_11ec_acd1_0242ac1c0002row13_col12\" class=\"data row13 col12\" >0.042873</td>\n",
              "                        <td id=\"T_0e0d12b6_3f3f_11ec_acd1_0242ac1c0002row13_col13\" class=\"data row13 col13\" >1.000000</td>\n",
              "                        <td id=\"T_0e0d12b6_3f3f_11ec_acd1_0242ac1c0002row13_col14\" class=\"data row13 col14\" >-0.002133</td>\n",
              "                        <td id=\"T_0e0d12b6_3f3f_11ec_acd1_0242ac1c0002row13_col15\" class=\"data row13 col15\" >-0.005618</td>\n",
              "            </tr>\n",
              "            <tr>\n",
              "                        <th id=\"T_0e0d12b6_3f3f_11ec_acd1_0242ac1c0002level0_row14\" class=\"row_heading level0 row14\" >Weekend</th>\n",
              "                        <td id=\"T_0e0d12b6_3f3f_11ec_acd1_0242ac1c0002row14_col0\" class=\"data row14 col0\" >0.023825</td>\n",
              "                        <td id=\"T_0e0d12b6_3f3f_11ec_acd1_0242ac1c0002row14_col1\" class=\"data row14 col1\" >0.013259</td>\n",
              "                        <td id=\"T_0e0d12b6_3f3f_11ec_acd1_0242ac1c0002row14_col2\" class=\"data row14 col2\" >0.034359</td>\n",
              "                        <td id=\"T_0e0d12b6_3f3f_11ec_acd1_0242ac1c0002row14_col3\" class=\"data row14 col3\" >0.023193</td>\n",
              "                        <td id=\"T_0e0d12b6_3f3f_11ec_acd1_0242ac1c0002row14_col4\" class=\"data row14 col4\" >0.013477</td>\n",
              "                        <td id=\"T_0e0d12b6_3f3f_11ec_acd1_0242ac1c0002row14_col5\" class=\"data row14 col5\" >0.004903</td>\n",
              "                        <td id=\"T_0e0d12b6_3f3f_11ec_acd1_0242ac1c0002row14_col6\" class=\"data row14 col6\" >-0.034808</td>\n",
              "                        <td id=\"T_0e0d12b6_3f3f_11ec_acd1_0242ac1c0002row14_col7\" class=\"data row14 col7\" >-0.053061</td>\n",
              "                        <td id=\"T_0e0d12b6_3f3f_11ec_acd1_0242ac1c0002row14_col8\" class=\"data row14 col8\" >0.010801</td>\n",
              "                        <td id=\"T_0e0d12b6_3f3f_11ec_acd1_0242ac1c0002row14_col9\" class=\"data row14 col9\" >-0.017723</td>\n",
              "                        <td id=\"T_0e0d12b6_3f3f_11ec_acd1_0242ac1c0002row14_col10\" class=\"data row14 col10\" >0.001894</td>\n",
              "                        <td id=\"T_0e0d12b6_3f3f_11ec_acd1_0242ac1c0002row14_col11\" class=\"data row14 col11\" >-0.039704</td>\n",
              "                        <td id=\"T_0e0d12b6_3f3f_11ec_acd1_0242ac1c0002row14_col12\" class=\"data row14 col12\" >-0.001553</td>\n",
              "                        <td id=\"T_0e0d12b6_3f3f_11ec_acd1_0242ac1c0002row14_col13\" class=\"data row14 col13\" >-0.002133</td>\n",
              "                        <td id=\"T_0e0d12b6_3f3f_11ec_acd1_0242ac1c0002row14_col14\" class=\"data row14 col14\" >1.000000</td>\n",
              "                        <td id=\"T_0e0d12b6_3f3f_11ec_acd1_0242ac1c0002row14_col15\" class=\"data row14 col15\" >0.027729</td>\n",
              "            </tr>\n",
              "            <tr>\n",
              "                        <th id=\"T_0e0d12b6_3f3f_11ec_acd1_0242ac1c0002level0_row15\" class=\"row_heading level0 row15\" >Revenue</th>\n",
              "                        <td id=\"T_0e0d12b6_3f3f_11ec_acd1_0242ac1c0002row15_col0\" class=\"data row15 col0\" >0.136330</td>\n",
              "                        <td id=\"T_0e0d12b6_3f3f_11ec_acd1_0242ac1c0002row15_col1\" class=\"data row15 col1\" >0.091768</td>\n",
              "                        <td id=\"T_0e0d12b6_3f3f_11ec_acd1_0242ac1c0002row15_col2\" class=\"data row15 col2\" >0.093626</td>\n",
              "                        <td id=\"T_0e0d12b6_3f3f_11ec_acd1_0242ac1c0002row15_col3\" class=\"data row15 col3\" >0.069358</td>\n",
              "                        <td id=\"T_0e0d12b6_3f3f_11ec_acd1_0242ac1c0002row15_col4\" class=\"data row15 col4\" >0.156042</td>\n",
              "                        <td id=\"T_0e0d12b6_3f3f_11ec_acd1_0242ac1c0002row15_col5\" class=\"data row15 col5\" >0.150077</td>\n",
              "                        <td id=\"T_0e0d12b6_3f3f_11ec_acd1_0242ac1c0002row15_col6\" class=\"data row15 col6\" >-0.145091</td>\n",
              "                        <td id=\"T_0e0d12b6_3f3f_11ec_acd1_0242ac1c0002row15_col7\" class=\"data row15 col7\" >-0.204320</td>\n",
              "                        <td id=\"T_0e0d12b6_3f3f_11ec_acd1_0242ac1c0002row15_col8\" class=\"data row15 col8\" >0.491894</td>\n",
              "                        <td id=\"T_0e0d12b6_3f3f_11ec_acd1_0242ac1c0002row15_col9\" class=\"data row15 col9\" >-0.083601</td>\n",
              "                        <td id=\"T_0e0d12b6_3f3f_11ec_acd1_0242ac1c0002row15_col10\" class=\"data row15 col10\" >-0.014927</td>\n",
              "                        <td id=\"T_0e0d12b6_3f3f_11ec_acd1_0242ac1c0002row15_col11\" class=\"data row15 col11\" >0.024052</td>\n",
              "                        <td id=\"T_0e0d12b6_3f3f_11ec_acd1_0242ac1c0002row15_col12\" class=\"data row15 col12\" >-0.012725</td>\n",
              "                        <td id=\"T_0e0d12b6_3f3f_11ec_acd1_0242ac1c0002row15_col13\" class=\"data row15 col13\" >-0.005618</td>\n",
              "                        <td id=\"T_0e0d12b6_3f3f_11ec_acd1_0242ac1c0002row15_col14\" class=\"data row15 col14\" >0.027729</td>\n",
              "                        <td id=\"T_0e0d12b6_3f3f_11ec_acd1_0242ac1c0002row15_col15\" class=\"data row15 col15\" >1.000000</td>\n",
              "            </tr>\n",
              "    </tbody></table>"
            ],
            "text/plain": [
              "<pandas.io.formats.style.Styler at 0x7f6c65947750>"
            ]
          },
          "metadata": {},
          "execution_count": 177
        }
      ]
    },
    {
      "cell_type": "markdown",
      "metadata": {
        "id": "LqJWrYSl4LtX"
      },
      "source": [
        "## Data Preparation\n"
      ]
    },
    {
      "cell_type": "code",
      "metadata": {
        "id": "24NYXgOJt4cY"
      },
      "source": [
        "# convert Revenue values to 0 and 1 - binary\n",
        "from sklearn import preprocessing\n",
        "label_encoding = preprocessing.LabelEncoder()\n",
        "df.Revenue= label_encoding.fit_transform(df.Revenue.astype(str))"
      ],
      "execution_count": 178,
      "outputs": []
    },
    {
      "cell_type": "code",
      "metadata": {
        "colab": {
          "base_uri": "https://localhost:8080/"
        },
        "id": "TC-xWWjduowu",
        "outputId": "0822fe12-a28c-411d-c6b8-99c497e8588e"
      },
      "source": [
        "label_encoding.classes_ # 0 -> ('False') , 1 -> ('True')"
      ],
      "execution_count": 179,
      "outputs": [
        {
          "output_type": "execute_result",
          "data": {
            "text/plain": [
              "array(['False', 'True'], dtype=object)"
            ]
          },
          "metadata": {},
          "execution_count": 179
        }
      ]
    },
    {
      "cell_type": "code",
      "metadata": {
        "id": "siLcy8IdqPw5"
      },
      "source": [
        "# Convert categorical variable to dummy variables:\n",
        "df= pd.get_dummies(df, columns=['Month','VisitorType','Weekend'])"
      ],
      "execution_count": 180,
      "outputs": []
    },
    {
      "cell_type": "code",
      "metadata": {
        "colab": {
          "base_uri": "https://localhost:8080/",
          "height": 223
        },
        "id": "twtDWLtgqPut",
        "outputId": "fe6191fc-c023-49ee-f824-07fc2a9c7e04"
      },
      "source": [
        "df.head()"
      ],
      "execution_count": 181,
      "outputs": [
        {
          "output_type": "execute_result",
          "data": {
            "text/html": [
              "<div>\n",
              "<style scoped>\n",
              "    .dataframe tbody tr th:only-of-type {\n",
              "        vertical-align: middle;\n",
              "    }\n",
              "\n",
              "    .dataframe tbody tr th {\n",
              "        vertical-align: top;\n",
              "    }\n",
              "\n",
              "    .dataframe thead th {\n",
              "        text-align: right;\n",
              "    }\n",
              "</style>\n",
              "<table border=\"1\" class=\"dataframe\">\n",
              "  <thead>\n",
              "    <tr style=\"text-align: right;\">\n",
              "      <th></th>\n",
              "      <th>Administrative</th>\n",
              "      <th>Administrative_Duration</th>\n",
              "      <th>Informational</th>\n",
              "      <th>Informational_Duration</th>\n",
              "      <th>ProductRelated</th>\n",
              "      <th>ProductRelated_Duration</th>\n",
              "      <th>BounceRates</th>\n",
              "      <th>ExitRates</th>\n",
              "      <th>PageValues</th>\n",
              "      <th>SpecialDay</th>\n",
              "      <th>OperatingSystems</th>\n",
              "      <th>Browser</th>\n",
              "      <th>Region</th>\n",
              "      <th>TrafficType</th>\n",
              "      <th>Revenue</th>\n",
              "      <th>Month_Aug</th>\n",
              "      <th>Month_Dec</th>\n",
              "      <th>Month_Feb</th>\n",
              "      <th>Month_Jul</th>\n",
              "      <th>Month_June</th>\n",
              "      <th>Month_Mar</th>\n",
              "      <th>Month_May</th>\n",
              "      <th>Month_Nov</th>\n",
              "      <th>Month_Oct</th>\n",
              "      <th>Month_Sep</th>\n",
              "      <th>VisitorType_New_Visitor</th>\n",
              "      <th>VisitorType_Other</th>\n",
              "      <th>VisitorType_Returning_Visitor</th>\n",
              "      <th>Weekend_False</th>\n",
              "      <th>Weekend_True</th>\n",
              "    </tr>\n",
              "  </thead>\n",
              "  <tbody>\n",
              "    <tr>\n",
              "      <th>0</th>\n",
              "      <td>0</td>\n",
              "      <td>0.0</td>\n",
              "      <td>0</td>\n",
              "      <td>0.0</td>\n",
              "      <td>1</td>\n",
              "      <td>0.000000</td>\n",
              "      <td>0.20</td>\n",
              "      <td>0.20</td>\n",
              "      <td>0.0</td>\n",
              "      <td>0.0</td>\n",
              "      <td>1</td>\n",
              "      <td>1</td>\n",
              "      <td>1</td>\n",
              "      <td>1</td>\n",
              "      <td>0</td>\n",
              "      <td>0</td>\n",
              "      <td>0</td>\n",
              "      <td>1</td>\n",
              "      <td>0</td>\n",
              "      <td>0</td>\n",
              "      <td>0</td>\n",
              "      <td>0</td>\n",
              "      <td>0</td>\n",
              "      <td>0</td>\n",
              "      <td>0</td>\n",
              "      <td>0</td>\n",
              "      <td>0</td>\n",
              "      <td>1</td>\n",
              "      <td>1</td>\n",
              "      <td>0</td>\n",
              "    </tr>\n",
              "    <tr>\n",
              "      <th>1</th>\n",
              "      <td>0</td>\n",
              "      <td>0.0</td>\n",
              "      <td>0</td>\n",
              "      <td>0.0</td>\n",
              "      <td>2</td>\n",
              "      <td>64.000000</td>\n",
              "      <td>0.00</td>\n",
              "      <td>0.10</td>\n",
              "      <td>0.0</td>\n",
              "      <td>0.0</td>\n",
              "      <td>2</td>\n",
              "      <td>2</td>\n",
              "      <td>1</td>\n",
              "      <td>2</td>\n",
              "      <td>0</td>\n",
              "      <td>0</td>\n",
              "      <td>0</td>\n",
              "      <td>1</td>\n",
              "      <td>0</td>\n",
              "      <td>0</td>\n",
              "      <td>0</td>\n",
              "      <td>0</td>\n",
              "      <td>0</td>\n",
              "      <td>0</td>\n",
              "      <td>0</td>\n",
              "      <td>0</td>\n",
              "      <td>0</td>\n",
              "      <td>1</td>\n",
              "      <td>1</td>\n",
              "      <td>0</td>\n",
              "    </tr>\n",
              "    <tr>\n",
              "      <th>2</th>\n",
              "      <td>0</td>\n",
              "      <td>0.0</td>\n",
              "      <td>0</td>\n",
              "      <td>0.0</td>\n",
              "      <td>1</td>\n",
              "      <td>0.000000</td>\n",
              "      <td>0.20</td>\n",
              "      <td>0.20</td>\n",
              "      <td>0.0</td>\n",
              "      <td>0.0</td>\n",
              "      <td>4</td>\n",
              "      <td>1</td>\n",
              "      <td>9</td>\n",
              "      <td>3</td>\n",
              "      <td>0</td>\n",
              "      <td>0</td>\n",
              "      <td>0</td>\n",
              "      <td>1</td>\n",
              "      <td>0</td>\n",
              "      <td>0</td>\n",
              "      <td>0</td>\n",
              "      <td>0</td>\n",
              "      <td>0</td>\n",
              "      <td>0</td>\n",
              "      <td>0</td>\n",
              "      <td>0</td>\n",
              "      <td>0</td>\n",
              "      <td>1</td>\n",
              "      <td>1</td>\n",
              "      <td>0</td>\n",
              "    </tr>\n",
              "    <tr>\n",
              "      <th>3</th>\n",
              "      <td>0</td>\n",
              "      <td>0.0</td>\n",
              "      <td>0</td>\n",
              "      <td>0.0</td>\n",
              "      <td>2</td>\n",
              "      <td>2.666667</td>\n",
              "      <td>0.05</td>\n",
              "      <td>0.14</td>\n",
              "      <td>0.0</td>\n",
              "      <td>0.0</td>\n",
              "      <td>3</td>\n",
              "      <td>2</td>\n",
              "      <td>2</td>\n",
              "      <td>4</td>\n",
              "      <td>0</td>\n",
              "      <td>0</td>\n",
              "      <td>0</td>\n",
              "      <td>1</td>\n",
              "      <td>0</td>\n",
              "      <td>0</td>\n",
              "      <td>0</td>\n",
              "      <td>0</td>\n",
              "      <td>0</td>\n",
              "      <td>0</td>\n",
              "      <td>0</td>\n",
              "      <td>0</td>\n",
              "      <td>0</td>\n",
              "      <td>1</td>\n",
              "      <td>1</td>\n",
              "      <td>0</td>\n",
              "    </tr>\n",
              "    <tr>\n",
              "      <th>4</th>\n",
              "      <td>0</td>\n",
              "      <td>0.0</td>\n",
              "      <td>0</td>\n",
              "      <td>0.0</td>\n",
              "      <td>10</td>\n",
              "      <td>627.500000</td>\n",
              "      <td>0.02</td>\n",
              "      <td>0.05</td>\n",
              "      <td>0.0</td>\n",
              "      <td>0.0</td>\n",
              "      <td>3</td>\n",
              "      <td>3</td>\n",
              "      <td>1</td>\n",
              "      <td>4</td>\n",
              "      <td>0</td>\n",
              "      <td>0</td>\n",
              "      <td>0</td>\n",
              "      <td>1</td>\n",
              "      <td>0</td>\n",
              "      <td>0</td>\n",
              "      <td>0</td>\n",
              "      <td>0</td>\n",
              "      <td>0</td>\n",
              "      <td>0</td>\n",
              "      <td>0</td>\n",
              "      <td>0</td>\n",
              "      <td>0</td>\n",
              "      <td>1</td>\n",
              "      <td>0</td>\n",
              "      <td>1</td>\n",
              "    </tr>\n",
              "  </tbody>\n",
              "</table>\n",
              "</div>"
            ],
            "text/plain": [
              "   Administrative  Administrative_Duration  ...  Weekend_False  Weekend_True\n",
              "0               0                      0.0  ...              1             0\n",
              "1               0                      0.0  ...              1             0\n",
              "2               0                      0.0  ...              1             0\n",
              "3               0                      0.0  ...              1             0\n",
              "4               0                      0.0  ...              0             1\n",
              "\n",
              "[5 rows x 30 columns]"
            ]
          },
          "metadata": {},
          "execution_count": 181
        }
      ]
    },
    {
      "cell_type": "code",
      "metadata": {
        "id": "oZHEP5pQtbcg"
      },
      "source": [
        "# select split parameter\n",
        "x = df.drop(['Revenue'], axis=1)\n",
        "y = df.Revenue\n",
        "\n",
        "# splitting into train and test sets for both parameters\n",
        "x_train, x_test ,y_train , y_test = train_test_split(x,y, train_size=0.8, random_state= 42)"
      ],
      "execution_count": 182,
      "outputs": []
    },
    {
      "cell_type": "markdown",
      "metadata": {
        "id": "yIwi9Ly04Wdx"
      },
      "source": [
        "# Modeling:"
      ]
    },
    {
      "cell_type": "markdown",
      "metadata": {
        "id": "AgHb7cedv2pE"
      },
      "source": [
        "## Logistic Regression"
      ]
    },
    {
      "cell_type": "code",
      "metadata": {
        "colab": {
          "base_uri": "https://localhost:8080/"
        },
        "id": "1s84W43mvvFq",
        "outputId": "39812bdc-a518-4dd1-e0e3-e4bb29bd3998"
      },
      "source": [
        "# Building the model:\n",
        "lr = LogisticRegression()\n",
        "\n",
        "# Fit the model on training data:\n",
        "lr.fit(x_train, y_train)"
      ],
      "execution_count": 183,
      "outputs": [
        {
          "output_type": "execute_result",
          "data": {
            "text/plain": [
              "LogisticRegression(C=1.0, class_weight=None, dual=False, fit_intercept=True,\n",
              "                   intercept_scaling=1, l1_ratio=None, max_iter=100,\n",
              "                   multi_class='auto', n_jobs=None, penalty='l2',\n",
              "                   random_state=None, solver='lbfgs', tol=0.0001, verbose=0,\n",
              "                   warm_start=False)"
            ]
          },
          "metadata": {},
          "execution_count": 183
        }
      ]
    },
    {
      "cell_type": "code",
      "metadata": {
        "colab": {
          "base_uri": "https://localhost:8080/"
        },
        "id": "u217U0wxvu4k",
        "outputId": "73318906-ec59-4e91-81de-6d7f5fa1bee6"
      },
      "source": [
        "# Predict the testing data:\n",
        "lr_preds = lr.predict(x_test)\n",
        "lr_preds"
      ],
      "execution_count": 184,
      "outputs": [
        {
          "output_type": "execute_result",
          "data": {
            "text/plain": [
              "array([0, 0, 0, ..., 0, 0, 0])"
            ]
          },
          "metadata": {},
          "execution_count": 184
        }
      ]
    },
    {
      "cell_type": "code",
      "metadata": {
        "colab": {
          "base_uri": "https://localhost:8080/"
        },
        "id": "Va6BGJndvu1t",
        "outputId": "95e8d3a2-5277-4d39-a4d3-f51fe0a35c26"
      },
      "source": [
        "# Showing the Accuracy:\n",
        "acc_lr = accuracy_score(y_test , lr_preds)\n",
        "acc_lr"
      ],
      "execution_count": 185,
      "outputs": [
        {
          "output_type": "execute_result",
          "data": {
            "text/plain": [
              "0.8840639082343302"
            ]
          },
          "metadata": {},
          "execution_count": 185
        }
      ]
    },
    {
      "cell_type": "code",
      "metadata": {
        "colab": {
          "base_uri": "https://localhost:8080/"
        },
        "id": "zEsgjDdgwh8F",
        "outputId": "a6794db4-79a2-4bd8-84c8-877dd6755829"
      },
      "source": [
        "# Displaying classification report:\n",
        "print(classification_report(y_test, lr_preds))"
      ],
      "execution_count": 186,
      "outputs": [
        {
          "output_type": "stream",
          "name": "stdout",
          "text": [
            "              precision    recall  f1-score   support\n",
            "\n",
            "           0       0.90      0.98      0.93      2079\n",
            "           1       0.72      0.35      0.47       362\n",
            "\n",
            "    accuracy                           0.88      2441\n",
            "   macro avg       0.81      0.67      0.70      2441\n",
            "weighted avg       0.87      0.88      0.87      2441\n",
            "\n"
          ]
        }
      ]
    },
    {
      "cell_type": "markdown",
      "metadata": {
        "id": "UQ-TjGZDweay"
      },
      "source": [
        "## KNN"
      ]
    },
    {
      "cell_type": "code",
      "metadata": {
        "id": "YLpK56dpwdTA"
      },
      "source": [
        "# Building the model:\n",
        "knn = KNeighborsClassifier(n_neighbors=3)\n",
        "\n",
        "# Fit the model on training data:\n",
        "knn = knn.fit(x_train, y_train)"
      ],
      "execution_count": 187,
      "outputs": []
    },
    {
      "cell_type": "code",
      "metadata": {
        "colab": {
          "base_uri": "https://localhost:8080/"
        },
        "id": "BdYwPAPzwdJ9",
        "outputId": "27818767-ec00-464c-db66-989e171f1bd6"
      },
      "source": [
        "# Predict the testing data:\n",
        "knn_preds = knn.predict(x_test)\n",
        "knn_preds"
      ],
      "execution_count": 188,
      "outputs": [
        {
          "output_type": "execute_result",
          "data": {
            "text/plain": [
              "array([0, 0, 0, ..., 0, 0, 0])"
            ]
          },
          "metadata": {},
          "execution_count": 188
        }
      ]
    },
    {
      "cell_type": "code",
      "metadata": {
        "colab": {
          "base_uri": "https://localhost:8080/"
        },
        "id": "WC9SVAhbwdCV",
        "outputId": "9fa62fa2-48b4-4a6f-9515-d91b72d7a668"
      },
      "source": [
        "# Showing the Accuracy:\n",
        "knn_acc = accuracy_score(y_test, knn_preds)\n",
        "knn_acc"
      ],
      "execution_count": 189,
      "outputs": [
        {
          "output_type": "execute_result",
          "data": {
            "text/plain": [
              "0.8607128226136829"
            ]
          },
          "metadata": {},
          "execution_count": 189
        }
      ]
    },
    {
      "cell_type": "code",
      "metadata": {
        "colab": {
          "base_uri": "https://localhost:8080/"
        },
        "id": "tcmxTJFvwcz_",
        "outputId": "a69b67e2-2566-413b-b2e5-a702424eed2d"
      },
      "source": [
        "# Displaying classification report:\n",
        "print(classification_report(y_test, knn_preds))"
      ],
      "execution_count": 190,
      "outputs": [
        {
          "output_type": "stream",
          "name": "stdout",
          "text": [
            "              precision    recall  f1-score   support\n",
            "\n",
            "           0       0.89      0.95      0.92      2079\n",
            "           1       0.55      0.35      0.42       362\n",
            "\n",
            "    accuracy                           0.86      2441\n",
            "   macro avg       0.72      0.65      0.67      2441\n",
            "weighted avg       0.84      0.86      0.85      2441\n",
            "\n"
          ]
        }
      ]
    },
    {
      "cell_type": "markdown",
      "metadata": {
        "id": "ENQGO1Xq4iFj"
      },
      "source": [
        "## Random Forest Classifier"
      ]
    },
    {
      "cell_type": "code",
      "metadata": {
        "id": "_QwWIGAlwcqZ"
      },
      "source": [
        "# Building the model:\n",
        "rf = RandomForestClassifier()\n",
        "\n",
        "# Fit the model on training data:\n",
        "rf = rf.fit(x_train, y_train)"
      ],
      "execution_count": 191,
      "outputs": []
    },
    {
      "cell_type": "code",
      "metadata": {
        "colab": {
          "base_uri": "https://localhost:8080/"
        },
        "id": "ST_2Qf0NwcZC",
        "outputId": "1fb94a23-b86e-4acf-fb63-d5d6b8d1fc53"
      },
      "source": [
        "# Predict the testing data:\n",
        "rf_preds= rf.predict(x_test)\n",
        "rf_preds"
      ],
      "execution_count": 192,
      "outputs": [
        {
          "output_type": "execute_result",
          "data": {
            "text/plain": [
              "array([0, 1, 0, ..., 0, 0, 0])"
            ]
          },
          "metadata": {},
          "execution_count": 192
        }
      ]
    },
    {
      "cell_type": "code",
      "metadata": {
        "colab": {
          "base_uri": "https://localhost:8080/"
        },
        "id": "fAsSNYhyyvXk",
        "outputId": "1dfea735-5ad4-48c3-d5d6-d6a4229a73f1"
      },
      "source": [
        "# Showing the Accuracy:\n",
        "acc_rf = accuracy_score(y_test , rf_preds)\n",
        "acc_rf"
      ],
      "execution_count": 193,
      "outputs": [
        {
          "output_type": "execute_result",
          "data": {
            "text/plain": [
              "0.9041376485047112"
            ]
          },
          "metadata": {},
          "execution_count": 193
        }
      ]
    },
    {
      "cell_type": "code",
      "metadata": {
        "colab": {
          "base_uri": "https://localhost:8080/"
        },
        "id": "BjTVV78by4H1",
        "outputId": "31ebb21b-0a7b-4498-f7df-700d7c854390"
      },
      "source": [
        "# Displaying classification report:\n",
        "print(classification_report(y_test, rf_preds))"
      ],
      "execution_count": 194,
      "outputs": [
        {
          "output_type": "stream",
          "name": "stdout",
          "text": [
            "              precision    recall  f1-score   support\n",
            "\n",
            "           0       0.92      0.97      0.94      2079\n",
            "           1       0.74      0.54      0.63       362\n",
            "\n",
            "    accuracy                           0.90      2441\n",
            "   macro avg       0.83      0.76      0.79      2441\n",
            "weighted avg       0.90      0.90      0.90      2441\n",
            "\n"
          ]
        }
      ]
    }
  ]
}